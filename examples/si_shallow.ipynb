{
 "cells": [
  {
   "cell_type": "code",
   "execution_count": 1,
   "metadata": {
    "pycharm": {
     "name": "#%%\n"
    }
   },
   "outputs": [],
   "source": [
    "import numpy as np\n",
    "import matplotlib.pyplot as plt\n",
    "import sys\n",
    "import ase\n",
    "\n",
    "sys.path.append('/home/onizhuk/midway/codes_development/pyCCE')\n",
    "import pycce as pc\n",
    "\n",
    "np.random.seed(42055)\n",
    "np.set_printoptions(suppress=True, precision=5)"
   ]
  },
  {
   "cell_type": "markdown",
   "metadata": {
    "pycharm": {
     "name": "#%% md\n"
    }
   },
   "source": [
    "# Shallow donor P and Si\n",
    "Example of more complicated simulations, in which we compare point dipole hyperfine calc\n",
    "\n",
    "Comparison between point dipole and shallow hyperfine"
   ]
  },
  {
   "cell_type": "code",
   "execution_count": 37,
   "metadata": {},
   "outputs": [],
   "source": [
    "from ase.build import bulk\n",
    "\n",
    "# Generate unitcell from ase\n",
    "s = bulk('Si', cubic=True)\n",
    "s = pc.bath.BathCell.from_ase(s)\n",
    "# Add types of isotopes\n",
    "s.add_isotopes(('29Si', 0.047))\n",
    "# set z direction of the defect\n",
    "s.zdir = [1, 1, 1]\n",
    "# Generate supercell\n",
    "atoms = s.gen_supercell(200, remove=[('Si', [0., 0., 0.])])"
   ]
  },
  {
   "cell_type": "code",
   "execution_count": 38,
   "metadata": {},
   "outputs": [],
   "source": [
    "# Parameters of CCE calculations engine\n",
    "\n",
    "# Order of CCE aproximation\n",
    "CCE_order = 2\n",
    "# Bath cutoff radius\n",
    "r_bath = 60  # in A\n",
    "# Cluster cutoff radius\n",
    "r_dipole = 10  # in A\n",
    "\n",
    "# position of central spin\n",
    "position = [0, 0, 0]\n",
    "# Qubit levels (in Sz basis)\n",
    "alpha = [0,1]; beta = [1,0]\n",
    "\n",
    "# Setting the runner engine\n",
    "calc = pc.Simulator(spin=1/2, position=position, alpha=alpha, beta=beta,\n",
    "                    bath=atoms, r_bath=r_bath,\n",
    "                    r_dipole=r_dipole, order=CCE_order)"
   ]
  },
  {
   "cell_type": "code",
   "execution_count": 43,
   "metadata": {},
   "outputs": [],
   "source": [
    "# Time points\n",
    "time_space = np.linspace(0, 2, 201)  # in ms\n",
    "# Number of pulses in CPMG seq (0 = FID, 1 = HE)\n",
    "N = 1\n",
    "# Mag. Field (Bx By Bz)\n",
    "B = np.array([0, 0, 1000])  # in G\n",
    "\n",
    "Lsi_pd = calc.compute_dmatrix(time_space, B, N=N, D=0, as_delay=False)[:, 0, 1]\n",
    "Lsi = calc.compute_coherence(time_space, B, N=N, as_delay=False)"
   ]
  },
  {
   "cell_type": "markdown",
   "metadata": {
    "pycharm": {
     "name": "#%% md\n"
    }
   },
   "source": [
    "### Hyperfines of the shallow donor"
   ]
  },
  {
   "cell_type": "code",
   "execution_count": 47,
   "metadata": {},
   "outputs": [
    {
     "name": "stdout",
     "output_type": "stream",
     "text": [
      "0.22577847371400656\n"
     ]
    }
   ],
   "source": [
    "g = pc.common_isotopes['29Si'].gyro\n",
    "r = [0,0,100]\n",
    "print(contact_si(r, g) / 2 / np.pi)"
   ]
  },
  {
   "cell_type": "code",
   "execution_count": 26,
   "metadata": {},
   "outputs": [],
   "source": [
    "# PHYSICAL REVIEW B 68, 115322 (2003)\n",
    "n = 0.81\n",
    "a = 25.09\n",
    "\n",
    "def factor(x, y, z, n=0.81, a=25.09, b=14.43):\n",
    "    top = np.exp(-np.sqrt(x**2/(n*b)**2 + (y**2 + z**2)/(n*a)**2))\n",
    "    bottom = np.sqrt(np.pi * (n * a)**2 * (n * b) )\n",
    "\n",
    "    return top / bottom\n",
    "\n",
    "def contact_si(r, gamma_n, gamma_e=pc.ELECTRON_GYRO, a_lattice=5.43, nu=186, n=0.81, a=25.09, b=14.43):\n",
    "    k0 = 0.85 * 2 * np.pi / a_lattice\n",
    "    pre = 16 * np.pi / 9 * gamma_n * gamma_e * pc.HBAR * nu\n",
    "    xpart = factor(r[0], r[1], r[2], n=n, a=a, b=b) * np.cos(k0 * r[0])\n",
    "    ypart = factor(r[1], r[2], r[0], n=n, a=a, b=b) * np.cos(k0 * r[1])\n",
    "    zpart = factor(r[2], r[0], r[1], n=n, a=a, b=b) * np.cos(k0 * r[2])\n",
    "    return pre * (xpart + ypart + zpart) ** 2\n"
   ]
  },
  {
   "cell_type": "code",
   "execution_count": 27,
   "metadata": {},
   "outputs": [],
   "source": [
    "newatoms = atoms.copy()\n",
    "\n",
    "# Generate hyperfine from point dipole\n",
    "newatoms.from_point_dipole(position)\n",
    "\n",
    "# Following PRB paper\n",
    "newatoms['A'][newatoms.dist() < n*a] = 0\n",
    "newatoms['A'] += np.eye(3)[np.newaxis,:,:] * contact_si(newatoms['xyz'].T, newatoms.types['29Si'].gyro)[:,np.newaxis, np.newaxis]"
   ]
  },
  {
   "cell_type": "code",
   "execution_count": 30,
   "metadata": {},
   "outputs": [],
   "source": [
    "calc = pc.Simulator(spin=1/2, position=position, alpha=alpha, beta=beta,\n",
    "                    bath=newatoms, r_bath=r_bath,\n",
    "                    r_dipole=r_dipole, order=CCE_order)\n",
    "dms = calc.compute_dmatrix(time_space, B, N=N, D=0, as_delay=False)\n",
    "Lsi_shallow = dms[:, 0, 1]"
   ]
  },
  {
   "cell_type": "code",
   "execution_count": 35,
   "metadata": {},
   "outputs": [
    {
     "name": "stderr",
     "output_type": "stream",
     "text": [
      "/home/onizhuk/anaconda3/lib/python3.8/site-packages/numpy/ma/core.py:473: ComplexWarning: Casting complex values to real discards the imaginary part\n",
      "  fill_value = np.array(fill_value, copy=False, dtype=ndtype)\n",
      "/home/onizhuk/anaconda3/lib/python3.8/site-packages/numpy/ma/core.py:2794: ComplexWarning: Casting complex values to real discards the imaginary part\n",
      "  _data = np.array(data, dtype=dtype, copy=copy,\n"
     ]
    },
    {
     "data": {
      "text/plain": [
       "(0.25, 0.75)"
      ]
     },
     "execution_count": 35,
     "metadata": {},
     "output_type": "execute_result"
    },
    {
     "data": {
      "image/png": "[encoded data removed]",
      "text/plain": [
       "<Figure size 432x288 with 1 Axes>"
      ]
     },
     "metadata": {
      "needs_background": "light"
     },
     "output_type": "display_data"
    }
   ],
   "source": [
    "plt.plot(time_space, dms[:, 1, 1])\n",
    "plt.ylim(0.25, 0.75)"
   ]
  },
  {
   "cell_type": "code",
   "execution_count": 45,
   "metadata": {},
   "outputs": [
    {
     "name": "stderr",
     "output_type": "stream",
     "text": [
      "/home/onizhuk/anaconda3/lib/python3.8/site-packages/numpy/ma/core.py:473: ComplexWarning: Casting complex values to real discards the imaginary part\n",
      "  fill_value = np.array(fill_value, copy=False, dtype=ndtype)\n",
      "/home/onizhuk/anaconda3/lib/python3.8/site-packages/numpy/ma/core.py:2794: ComplexWarning: Casting complex values to real discards the imaginary part\n",
      "  _data = np.array(data, dtype=dtype, copy=copy,\n",
      "/home/onizhuk/anaconda3/lib/python3.8/site-packages/numpy/core/_asarray.py:85: ComplexWarning: Casting complex values to real discards the imaginary part\n",
      "  return array(a, dtype, copy=False, order=order)\n",
      "/home/onizhuk/anaconda3/lib/python3.8/site-packages/numpy/ma/core.py:473: ComplexWarning: Casting complex values to real discards the imaginary part\n",
      "  fill_value = np.array(fill_value, copy=False, dtype=ndtype)\n",
      "/home/onizhuk/anaconda3/lib/python3.8/site-packages/numpy/ma/core.py:2794: ComplexWarning: Casting complex values to real discards the imaginary part\n",
      "  _data = np.array(data, dtype=dtype, copy=copy,\n"
     ]
    },
    {
     "data": {
      "text/plain": [
       "Text(0, 0.5, 'L')"
      ]
     },
     "execution_count": 45,
     "metadata": {},
     "output_type": "execute_result"
    },
    {
     "data": {
      "image/png": "[encoded data removed]",
      "text/plain": [
       "<Figure size 432x288 with 1 Axes>"
      ]
     },
     "metadata": {
      "needs_background": "light"
     },
     "output_type": "display_data"
    }
   ],
   "source": [
    "plt.plot(time_space, Lsi_pd)\n",
    "plt.plot(time_space, Lsi*0.5)\n",
    "plt.plot(time_space, Lsi_shallow)\n",
    "plt.xlabel('Time (ms)')\n",
    "plt.ylabel('L')"
   ]
  }
 ],
 "metadata": {
  "kernelspec": {
   "display_name": "Python 3",
   "language": "python",
   "name": "python3"
  },
  "language_info": {
   "codemirror_mode": {
    "name": "ipython",
    "version": 3
   },
   "file_extension": ".py",
   "mimetype": "text/x-python",
   "name": "python",
   "nbconvert_exporter": "python",
   "pygments_lexer": "ipython3",
   "version": "3.8.3"
  },
  "pycharm": {
   "stem_cell": {
    "cell_type": "raw",
    "metadata": {
     "collapsed": false
    },
    "source": []
   }
  }
 },
 "nbformat": 4,
 "nbformat_minor": 4
}
