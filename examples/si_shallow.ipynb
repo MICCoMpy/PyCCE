{
 "cells": [
  {
   "cell_type": "markdown",
   "metadata": {
    "pycharm": {
     "name": "#%% md\n"
    }
   },
   "source": [
    "# Shallow donor P and Si\n",
    "Example of more complicated simulations, in which we compare point dipole hyperfine with the hyperfines from model wave funtion of the shallow donnor in Si (P:Si)."
   ]
  },
  {
   "cell_type": "code",
   "execution_count": 1,
   "metadata": {
    "pycharm": {
     "name": "#%%\n"
    }
   },
   "outputs": [],
   "source": [
    "import numpy as np\n",
    "import matplotlib.pyplot as plt\n",
    "import sys\n",
    "import ase\n",
    "\n",
    "sys.path.append('/home/onizhuk/midway/codes_development/pyCCE')\n",
    "import pycce as pc\n",
    "\n",
    "seed = 50333\n",
    "np.set_printoptions(suppress=True, precision=5)"
   ]
  },
  {
   "cell_type": "markdown",
   "metadata": {},
   "source": [
    "First, as always, generate spin bath with `BathCell` instance. For getting parameters, use ase interface. It allows to conveniently read structure files of any type."
   ]
  },
  {
   "cell_type": "code",
   "execution_count": 2,
   "metadata": {},
   "outputs": [],
   "source": [
    "# Generate unitcell from ase\n",
    "from ase import io\n",
    "s = io.read('si.cif')\n",
    "s = pc.bath.BathCell.from_ase(s)\n",
    "# Add types of isotopes\n",
    "s.add_isotopes(('29Si', 0.047))\n",
    "# set z direction of the defect\n",
    "s.zdir = [1, 1, 1]\n",
    "# Generate supercell\n",
    "atoms = s.gen_supercell(200, remove=[('Si', [0., 0., 0.])], seed=seed)"
   ]
  },
  {
   "cell_type": "markdown",
   "metadata": {},
   "source": [
    "## Calculations with point dipole hyperfines\n",
    "Here we compute Hahn-echo decay with point dipole hyperfine couplings. All of the parameters are converged, however it never hurts to check!"
   ]
  },
  {
   "cell_type": "code",
   "execution_count": 3,
   "metadata": {},
   "outputs": [],
   "source": [
    "# Parameters of CCE calculations engine\n",
    "\n",
    "# Order of CCE aproximation\n",
    "CCE_order = 2\n",
    "# Bath cutoff radius\n",
    "r_bath = 80  # in A\n",
    "# Cluster cutoff radius\n",
    "r_dipole = 10  # in A\n",
    "\n",
    "# position of central spin\n",
    "position = [0, 0, 0]\n",
    "# Qubit levels (in Sz basis)\n",
    "alpha = [0, 1]; beta = [1, 0]\n",
    "\n",
    "# Setting the runner engine\n",
    "calc = pc.Simulator(spin=1 / 2, position=position, alpha=alpha, beta=beta,\n",
    "                    bath=atoms, r_bath=r_bath,\n",
    "                    r_dipole=r_dipole, order=CCE_order)"
   ]
  },
  {
   "cell_type": "code",
   "execution_count": 4,
   "metadata": {},
   "outputs": [],
   "source": [
    "# Time points\n",
    "time_space = np.linspace(0, 2, 201)  # in ms\n",
    "# Number of pulses in CPMG seq (0 = FID, 1 = HE)\n",
    "N = 1\n",
    "# Mag. Field (Bx By Bz)\n",
    "B = np.array([0, 0, 1000])  # in G"
   ]
  },
  {
   "cell_type": "markdown",
   "metadata": {},
   "source": [
    "For comparison, we compute both with generalized CCE and usual CCE coherence. Note a large bath (`r_bath = 80`), so the calculations will take some time."
   ]
  },
  {
   "cell_type": "code",
   "execution_count": 5,
   "metadata": {},
   "outputs": [],
   "source": [
    "l_cce = calc.compute(time_space, B, N=N, as_delay=False, method='CCE')\n",
    "l_gen = calc.compute(time_space, B, N=N, as_delay=False, method='gCCE', mean_field=False)"
   ]
  },
  {
   "cell_type": "markdown",
   "metadata": {
    "pycharm": {
     "name": "#%% md\n"
    }
   },
   "source": [
    "## Hyperfines of the shallow donor\n",
    "\n",
    "We compute the hyperfine couplings of the shallow donnor, following the formulae by Rogerio de Sousa and S. Das Sarma ([Phys Rev B 68, 115322 (2003)](https://doi.org/10.1103/PhysRevB.68.115322))."
   ]
  },
  {
   "cell_type": "code",
   "execution_count": 6,
   "metadata": {},
   "outputs": [],
   "source": [
    "# PHYSICAL REVIEW B 68, 115322 (2003)\n",
    "n = 0.81\n",
    "a = 25.09\n",
    "\n",
    "def factor(x, y, z, n=0.81, a=25.09, b=14.43):\n",
    "    top = np.exp(-np.sqrt(x**2/(n*b)**2 + (y**2 + z**2)/(n*a)**2))\n",
    "    bottom = np.sqrt(np.pi * (n * a)**2 * (n * b) )\n",
    "\n",
    "    return top / bottom\n",
    "\n",
    "def contact_si(r, gamma_n, gamma_e=pc.ELECTRON_GYRO, a_lattice=5.43, nu=186, n=0.81, a=25.09, b=14.43):\n",
    "    k0 = 0.85 * 2 * np.pi / a_lattice\n",
    "    pre = 16 * np.pi / 9 * gamma_n * gamma_e * pc.HBAR * nu\n",
    "    xpart = factor(r[0], r[1], r[2], n=n, a=a, b=b) * np.cos(k0 * r[0])\n",
    "    ypart = factor(r[1], r[2], r[0], n=n, a=a, b=b) * np.cos(k0 * r[1])\n",
    "    zpart = factor(r[2], r[0], r[1], n=n, a=a, b=b) * np.cos(k0 * r[2])\n",
    "    return pre * (xpart + ypart + zpart) ** 2\n"
   ]
  },
  {
   "cell_type": "markdown",
   "metadata": {},
   "source": [
    "We make a copy of the `BathArray` object, and set up their hyperfines according to the reference above."
   ]
  },
  {
   "cell_type": "code",
   "execution_count": 7,
   "metadata": {},
   "outputs": [],
   "source": [
    "newatoms = atoms.copy()\n",
    "\n",
    "# Generate hyperfine from point dipole\n",
    "newatoms.from_point_dipole(position)\n",
    "\n",
    "# Following PRB paper\n",
    "newatoms['A'][newatoms.dist() < n*a] = 0\n",
    "newatoms['A'] += np.eye(3)[np.newaxis,:,:] * contact_si(newatoms['xyz'].T, newatoms.types['29Si'].gyro)[:,np.newaxis, np.newaxis]"
   ]
  },
  {
   "cell_type": "markdown",
   "metadata": {},
   "source": [
    "Now we set up a `Simulator` object. Because hyperfines in `newatoms` are nonzero, they are **not** approximated as the ones of point dipole."
   ]
  },
  {
   "cell_type": "code",
   "execution_count": 8,
   "metadata": {},
   "outputs": [],
   "source": [
    "calc = pc.Simulator(spin=1/2, position=position, alpha=alpha, beta=beta,\n",
    "                    bath=newatoms, r_bath=r_bath,\n",
    "                    r_dipole=r_dipole, order=CCE_order)"
   ]
  },
  {
   "cell_type": "code",
   "execution_count": 9,
   "metadata": {},
   "outputs": [],
   "source": [
    "shallow_l_cce = calc.compute(time_space, B, N=N, as_delay=False, method='CCE')\n",
    "shallow_l_gen = calc.compute(time_space, B, N=N, as_delay=False, method='gCCE', mean_field=False)"
   ]
  },
  {
   "cell_type": "markdown",
   "metadata": {},
   "source": [
    "## Compare the results"
   ]
  },
  {
   "cell_type": "code",
   "execution_count": 10,
   "metadata": {},
   "outputs": [
    {
     "data": {
      "image/png": "[encoded data removed]",
      "text/plain": [
       "<Figure size 432x288 with 1 Axes>"
      ]
     },
     "metadata": {
      "needs_background": "light"
     },
     "output_type": "display_data"
    }
   ],
   "source": [
    "plt.plot(time_space, shallow_l_cce.real, label='Shallow')\n",
    "plt.plot(time_space, shallow_l_gen.real, ls=':', c='black', lw=0.5)\n",
    "\n",
    "plt.plot(time_space, l_cce.real, label='PD')\n",
    "plt.plot(time_space, l_gen.real, ls=':', c='black', lw=0.5)\n",
    "plt.legend();"
   ]
  },
  {
   "cell_type": "markdown",
   "metadata": {},
   "source": [
    "Interesting to note - the decay depends significantly on the orientation of the magnetic field. You can check it yourself!"
   ]
  }
 ],
 "metadata": {
  "kernelspec": {
   "display_name": "Python 3",
   "language": "python",
   "name": "python3"
  },
  "language_info": {
   "codemirror_mode": {
    "name": "ipython",
    "version": 3
   },
   "file_extension": ".py",
   "mimetype": "text/x-python",
   "name": "python",
   "nbconvert_exporter": "python",
   "pygments_lexer": "ipython3",
   "version": "3.8.3"
  },
  "pycharm": {
   "stem_cell": {
    "cell_type": "raw",
    "metadata": {
     "collapsed": false
    },
    "source": []
   }
  }
 },
 "nbformat": 4,
 "nbformat_minor": 4
}
