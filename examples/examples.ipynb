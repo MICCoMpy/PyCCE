{
 "cells": [
  {
   "cell_type": "code",
   "execution_count": 1,
   "metadata": {},
   "outputs": [],
   "source": [
    "import sys\n",
    "sys.path.append('/home/onizhuk/codes_development/pyCCE')\n",
    "sys.path.append('/home/onizhuk/midway/codes_development/pyCCE')\n",
    "sys.path.append('/home/onizhuk/midway/codes_development/us')\n",
    "\n",
    "sys.path.append('Z:/codes_development/pyCCE')\n",
    "\n",
    "import pycce as pc\n",
    "import numpy as np\n",
    "import matplotlib.pyplot as plt\n",
    "import ase\n",
    "import ase.build\n",
    "import ase.io\n",
    "\n",
    "import scipy.optimize\n",
    "sys.path.append('Z:/codes_development/us')\n",
    "from dmscripts import *\n"
   ]
  },
  {
   "cell_type": "markdown",
   "metadata": {},
   "source": [
    "# Examples of using pyCCE code\n",
    "\n",
    "## NV Center in diamond"
   ]
  },
  {
   "cell_type": "code",
   "execution_count": 2,
   "metadata": {},
   "outputs": [
    {
     "name": "stdout",
     "output_type": "stream",
     "text": [
      "{'C': [array([0., 0., 0.]), array([0.25, 0.25, 0.25]), array([0. , 0.5, 0.5]), array([0.25, 0.75, 0.75]), array([0.5, 0. , 0.5]), array([0.75, 0.25, 0.75]), array([0.5, 0.5, 0. ]), array([0.75, 0.75, 0.25])]}\n"
     ]
    }
   ],
   "source": [
    "np.random.seed(231)\n",
    "# From ASE builder\n",
    "ase_diamond = ase.build.bulk('C', 'diamond', cubic=True)\n",
    "# Generate NSpinCell\n",
    "diamond = pc.bath.BathCell.from_ase(ase_diamond)\n",
    "diamond.add_isotopes(('13C', 0.011))\n",
    "\n",
    "v_coord = np.array([0., 0., 0.])\n",
    "n_coord = np.array([0.25, 0.25, 0.25])\n",
    "print(diamond.atoms)\n",
    "diamond.zdir = (1, 1, 1)\n",
    "diamond_bath = diamond.gen_supercell(200, remove=[('C', v_coord), ('C', n_coord)], add=('14N', n_coord))"
   ]
  },
  {
   "cell_type": "code",
   "execution_count": 6,
   "metadata": {},
   "outputs": [
    {
     "name": "stdout",
     "output_type": "stream",
     "text": [
      "[('14N', [-1.11022302e-16,  0.00000000e+00,  1.54585535e+00], [[0., 0., 0.], [0., 0., 0.], [0., 0., 0.]], [[0., 0., 0.], [0., 0., 0.], [0., 0., 0.]])]\n"
     ]
    }
   ],
   "source": [
    "print(diamond_bath['14N'])"
   ]
  },
  {
   "cell_type": "code",
   "execution_count": 10,
   "metadata": {
    "collapsed": true,
    "jupyter": {
     "outputs_hidden": true
    }
   },
   "outputs": [
    {
     "name": "stdout",
     "output_type": "stream",
     "text": [
      "Adding: \n",
      " ('14N', [-1.11022302e-16,  0.00000000e+00,  1.54585535e+00])\n",
      "Average number of neighbours is 3.5\n",
      "Number of disjointed clusters is 27\n",
      "Adding: \n",
      " ('14N', [-1.11022302e-16,  0.00000000e+00,  1.54585535e+00])\n",
      "Average number of neighbours is 3.9\n",
      "Number of disjointed clusters is 24\n",
      "Adding: \n",
      " ('14N', [-1.11022302e-16,  0.00000000e+00,  1.54585535e+00])\n",
      "Average number of neighbours is 3.7\n",
      "Number of disjointed clusters is 37\n",
      "I see 1 removals\n",
      "Removing: \n",
      " [('13C', [0., 0., 0.])]\n",
      "Adding: \n",
      " ('14N', [-1.11022302e-16,  0.00000000e+00,  1.54585535e+00])\n",
      "Average number of neighbours is 3.7\n",
      "Number of disjointed clusters is 25\n",
      "Adding: \n",
      " ('14N', [-1.11022302e-16,  0.00000000e+00,  1.54585535e+00])\n",
      "Average number of neighbours is 3.4\n",
      "Number of disjointed clusters is 34\n",
      "Adding: \n",
      " ('14N', [-1.11022302e-16,  0.00000000e+00,  1.54585535e+00])\n",
      "Average number of neighbours is 3.7\n",
      "Number of disjointed clusters is 28\n",
      "Adding: \n",
      " ('14N', [-1.11022302e-16,  0.00000000e+00,  1.54585535e+00])\n",
      "Average number of neighbours is 3.4\n",
      "Number of disjointed clusters is 26\n",
      "Adding: \n",
      " ('14N', [-1.11022302e-16,  0.00000000e+00,  1.54585535e+00])\n",
      "Average number of neighbours is 4.1\n",
      "Number of disjointed clusters is 23\n",
      "Adding: \n",
      " ('14N', [-1.11022302e-16,  0.00000000e+00,  1.54585535e+00])\n",
      "Average number of neighbours is 3.5\n",
      "Number of disjointed clusters is 31\n",
      "Adding: \n",
      " ('14N', [-1.11022302e-16,  0.00000000e+00,  1.54585535e+00])\n",
      "Average number of neighbours is 3.5\n",
      "Number of disjointed clusters is 28\n",
      "Adding: \n",
      " ('14N', [-1.11022302e-16,  0.00000000e+00,  1.54585535e+00])\n",
      "Average number of neighbours is 3.7\n",
      "Number of disjointed clusters is 24\n",
      "Adding: \n",
      " ('14N', [-1.11022302e-16,  0.00000000e+00,  1.54585535e+00])\n",
      "Average number of neighbours is 3.4\n",
      "Number of disjointed clusters is 34\n",
      "I see 1 removals\n",
      "Removing: \n",
      " [('13C', [0., 0., 0.])]\n",
      "Adding: \n",
      " ('14N', [-1.11022302e-16,  0.00000000e+00,  1.54585535e+00])\n",
      "Average number of neighbours is 3.5\n",
      "Number of disjointed clusters is 29\n",
      "Adding: \n",
      " ('14N', [-1.11022302e-16,  0.00000000e+00,  1.54585535e+00])\n",
      "Average number of neighbours is 3.5\n",
      "Number of disjointed clusters is 36\n",
      "Adding: \n",
      " ('14N', [-1.11022302e-16,  0.00000000e+00,  1.54585535e+00])\n",
      "Average number of neighbours is 3.5\n",
      "Number of disjointed clusters is 28\n",
      "Adding: \n",
      " ('14N', [-1.11022302e-16,  0.00000000e+00,  1.54585535e+00])\n",
      "Average number of neighbours is 3.7\n",
      "Number of disjointed clusters is 30\n",
      "Adding: \n",
      " ('14N', [-1.11022302e-16,  0.00000000e+00,  1.54585535e+00])\n",
      "Average number of neighbours is 3.9\n",
      "Number of disjointed clusters is 20\n",
      "Adding: \n",
      " ('14N', [-1.11022302e-16,  0.00000000e+00,  1.54585535e+00])\n",
      "Average number of neighbours is 3.9\n",
      "Number of disjointed clusters is 29\n",
      "Adding: \n",
      " ('14N', [-1.11022302e-16,  0.00000000e+00,  1.54585535e+00])\n",
      "Average number of neighbours is 3.6\n",
      "Number of disjointed clusters is 27\n",
      "Adding: \n",
      " ('14N', [-1.11022302e-16,  0.00000000e+00,  1.54585535e+00])\n",
      "Average number of neighbours is 3.6\n",
      "Number of disjointed clusters is 35\n",
      "Adding: \n",
      " ('14N', [-1.11022302e-16,  0.00000000e+00,  1.54585535e+00])\n",
      "Average number of neighbours is 3.6\n",
      "Number of disjointed clusters is 39\n",
      "Adding: \n",
      " ('14N', [-1.11022302e-16,  0.00000000e+00,  1.54585535e+00])\n",
      "Average number of neighbours is 3.6\n",
      "Number of disjointed clusters is 29\n",
      "Adding: \n",
      " ('14N', [-1.11022302e-16,  0.00000000e+00,  1.54585535e+00])\n",
      "Average number of neighbours is 4.0\n",
      "Number of disjointed clusters is 24\n",
      "Adding: \n",
      " ('14N', [-1.11022302e-16,  0.00000000e+00,  1.54585535e+00])\n",
      "Average number of neighbours is 3.7\n",
      "Number of disjointed clusters is 26\n",
      "Adding: \n",
      " ('14N', [-1.11022302e-16,  0.00000000e+00,  1.54585535e+00])\n",
      "Average number of neighbours is 3.7\n",
      "Number of disjointed clusters is 34\n",
      "Adding: \n",
      " ('14N', [-1.11022302e-16,  0.00000000e+00,  1.54585535e+00])\n",
      "Average number of neighbours is 3.7\n",
      "Number of disjointed clusters is 31\n",
      "Adding: \n",
      " ('14N', [-1.11022302e-16,  0.00000000e+00,  1.54585535e+00])\n",
      "Average number of neighbours is 3.5\n",
      "Number of disjointed clusters is 34\n",
      "Adding: \n",
      " ('14N', [-1.11022302e-16,  0.00000000e+00,  1.54585535e+00])\n",
      "Average number of neighbours is 4.2\n",
      "Number of disjointed clusters is 21\n",
      "Adding: \n",
      " ('14N', [-1.11022302e-16,  0.00000000e+00,  1.54585535e+00])\n",
      "Average number of neighbours is 3.7\n",
      "Number of disjointed clusters is 31\n",
      "Adding: \n",
      " ('14N', [-1.11022302e-16,  0.00000000e+00,  1.54585535e+00])\n",
      "Average number of neighbours is 3.5\n",
      "Number of disjointed clusters is 29\n",
      "Adding: \n",
      " ('14N', [-1.11022302e-16,  0.00000000e+00,  1.54585535e+00])\n",
      "Average number of neighbours is 3.6\n",
      "Number of disjointed clusters is 33\n",
      "Adding: \n",
      " ('14N', [-1.11022302e-16,  0.00000000e+00,  1.54585535e+00])\n",
      "Average number of neighbours is 3.3\n",
      "Number of disjointed clusters is 37\n",
      "Adding: \n",
      " ('14N', [-1.11022302e-16,  0.00000000e+00,  1.54585535e+00])\n",
      "Average number of neighbours is 3.6\n",
      "Number of disjointed clusters is 33\n",
      "Adding: \n",
      " ('14N', [-1.11022302e-16,  0.00000000e+00,  1.54585535e+00])\n",
      "Average number of neighbours is 3.5\n",
      "Number of disjointed clusters is 36\n",
      "Adding: \n",
      " ('14N', [-1.11022302e-16,  0.00000000e+00,  1.54585535e+00])\n",
      "Average number of neighbours is 3.9\n",
      "Number of disjointed clusters is 27\n",
      "Adding: \n",
      " ('14N', [-1.11022302e-16,  0.00000000e+00,  1.54585535e+00])\n",
      "Average number of neighbours is 3.7\n",
      "Number of disjointed clusters is 39\n",
      "Adding: \n",
      " ('14N', [-1.11022302e-16,  0.00000000e+00,  1.54585535e+00])\n",
      "Average number of neighbours is 3.5\n",
      "Number of disjointed clusters is 32\n",
      "Adding: \n",
      " ('14N', [-1.11022302e-16,  0.00000000e+00,  1.54585535e+00])\n",
      "Average number of neighbours is 3.6\n",
      "Number of disjointed clusters is 33\n",
      "Adding: \n",
      " ('14N', [-1.11022302e-16,  0.00000000e+00,  1.54585535e+00])\n",
      "Average number of neighbours is 3.8\n",
      "Number of disjointed clusters is 31\n",
      "Adding: \n",
      " ('14N', [-1.11022302e-16,  0.00000000e+00,  1.54585535e+00])\n",
      "Average number of neighbours is 3.7\n",
      "Number of disjointed clusters is 28\n",
      "I see 1 removals\n",
      "Removing: \n",
      " [('13C', [0., 0., 0.])]\n",
      "Adding: \n",
      " ('14N', [-1.11022302e-16,  0.00000000e+00,  1.54585535e+00])\n",
      "Average number of neighbours is 3.8\n",
      "Number of disjointed clusters is 23\n",
      "Adding: \n",
      " ('14N', [-1.11022302e-16,  0.00000000e+00,  1.54585535e+00])\n",
      "Average number of neighbours is 4.0\n",
      "Number of disjointed clusters is 29\n",
      "Adding: \n",
      " ('14N', [-1.11022302e-16,  0.00000000e+00,  1.54585535e+00])\n",
      "Average number of neighbours is 3.8\n",
      "Number of disjointed clusters is 21\n",
      "Adding: \n",
      " ('14N', [-1.11022302e-16,  0.00000000e+00,  1.54585535e+00])\n",
      "Average number of neighbours is 3.2\n",
      "Number of disjointed clusters is 38\n",
      "Adding: \n",
      " ('14N', [-1.11022302e-16,  0.00000000e+00,  1.54585535e+00])\n",
      "Average number of neighbours is 4.0\n",
      "Number of disjointed clusters is 25\n",
      "Adding: \n",
      " ('14N', [-1.11022302e-16,  0.00000000e+00,  1.54585535e+00])\n",
      "Average number of neighbours is 3.7\n",
      "Number of disjointed clusters is 30\n",
      "Adding: \n",
      " ('14N', [-1.11022302e-16,  0.00000000e+00,  1.54585535e+00])\n",
      "Average number of neighbours is 3.7\n",
      "Number of disjointed clusters is 32\n",
      "Adding: \n",
      " ('14N', [-1.11022302e-16,  0.00000000e+00,  1.54585535e+00])\n",
      "Average number of neighbours is 3.4\n",
      "Number of disjointed clusters is 30\n",
      "Adding: \n",
      " ('14N', [-1.11022302e-16,  0.00000000e+00,  1.54585535e+00])\n",
      "Average number of neighbours is 3.4\n",
      "Number of disjointed clusters is 28\n",
      "Adding: \n",
      " ('14N', [-1.11022302e-16,  0.00000000e+00,  1.54585535e+00])\n",
      "Average number of neighbours is 3.6\n",
      "Number of disjointed clusters is 33\n"
     ]
    }
   ],
   "source": [
    "r_bath = 40\n",
    "r_dipole = 8\n",
    "order = 2\n",
    "\n",
    "N = 1\n",
    "timespace = np.linspace(0, 0.5, 101)\n",
    "B = np.array([0, 0, 0])\n",
    "\n",
    "L = 0\n",
    "for i in range(50):\n",
    "    diamond_bath = diamond.gen_supercell(200, remove=[('C', v_coord), ('C', n_coord)], add=('14N', n_coord))\n",
    "    calc = pc.Simulator(1, v_coord, [0,0,1], [0,1,0], bath=diamond_bath, \n",
    "                        r_bath=r_bath, r_dipole=r_dipole, order=order)\n",
    "    L += calc.compute_coherence(timespace, B, N)\n",
    "L /= (i+1)"
   ]
  },
  {
   "cell_type": "code",
   "execution_count": 14,
   "metadata": {},
   "outputs": [
    {
     "name": "stdout",
     "output_type": "stream",
     "text": [
      "[0.13447679 2.5444017 ]\n"
     ]
    },
    {
     "name": "stderr",
     "output_type": "stream",
     "text": [
      "/software/python-anaconda-2020.02-el7-x86_64/lib/python3.7/site-packages/numpy/core/_asarray.py:85: ComplexWarning: Casting complex values to real discards the imaginary part\n",
      "  return array(a, dtype, copy=False, order=order)\n"
     ]
    },
    {
     "data": {
      "image/png": "[encoded data removed]",
      "text/plain": [
       "<Figure size 432x288 with 1 Axes>"
      ]
     },
     "metadata": {
      "needs_background": "light"
     },
     "output_type": "display_data"
    }
   ],
   "source": [
    "plt.plot(timespace, L)\n",
    "l, p = newt2_fit(timespace[L.real <= 1.1], L.real[L.real <= 1.1], p0=[0.1, 1], r=6)\n",
    "plt.plot(timespace[L.real <= 1.1], l(timespace[L.real <= 1.1], *p))\n",
    "plt.xlabel('time, ms')\n",
    "plt.ylabel('L from 13C spins')\n",
    "print(p)"
   ]
  },
  {
   "cell_type": "markdown",
   "metadata": {},
   "source": [
    "# Conventional CCE"
   ]
  },
  {
   "cell_type": "code",
   "execution_count": 102,
   "metadata": {},
   "outputs": [],
   "source": [
    "L = calc.compute_coherence(timespace, B, N)"
   ]
  },
  {
   "cell_type": "code",
   "execution_count": 111,
   "metadata": {},
   "outputs": [
    {
     "name": "stdout",
     "output_type": "stream",
     "text": [
      "[0.88116 1.9879 ]\n"
     ]
    },
    {
     "name": "stderr",
     "output_type": "stream",
     "text": [
      "/software/python-anaconda-2020.02-el7-x86_64/lib/python3.7/site-packages/numpy/core/_asarray.py:85: ComplexWarning: Casting complex values to real discards the imaginary part\n",
      "  return array(a, dtype, copy=False, order=order)\n",
      "/home/onizhuk/codes_development/useful_scripts/dmscripts.py:179: RuntimeWarning: invalid value encountered in power\n",
      "  return np.exp(-(t / t2) ** n) * y[0]\n"
     ]
    },
    {
     "data": {
      "image/png": "[encoded data removed]",
      "text/plain": [
       "<Figure size 432x288 with 1 Axes>"
      ]
     },
     "metadata": {
      "needs_background": "light"
     },
     "output_type": "display_data"
    }
   ],
   "source": [
    "import scipy.optimize\n",
    "plt.plot(timespace[L.real <= 1.1], L[L.real <= 1.1])\n",
    "plt.ylim(-0.1, 1.1)\n",
    "l, p = newt2_fit(timespace[L.real <= 1.1], L.real[L.real <= 1.1], r=6)\n",
    "plt.plot(timespace[L.real <= 1.1], l(timespace[L.real <= 1.1], *p))\n",
    "print(p)"
   ]
  },
  {
   "cell_type": "markdown",
   "metadata": {},
   "source": [
    "# Different materials"
   ]
  },
  {
   "cell_type": "code",
   "execution_count": 30,
   "metadata": {},
   "outputs": [],
   "source": [
    "si_ase = ase.io.read('si.cif')\n",
    "si = pc.bath.BathCell.from_ase(si_ase)\n",
    "si.add_isotopes(('29Si', 0.047))\n",
    "si.zdir = [1, 1, 1]\n",
    "vc_uc = [0.5, 0.5, 0.5]\n",
    "vc = si.to_cartesian(vc_uc)\n",
    "atoms = si.gen_supercell(200, remove=('Si', vc_uc))\n",
    "atoms['xyz'] -= vc"
   ]
  },
  {
   "cell_type": "code",
   "execution_count": 5,
   "metadata": {},
   "outputs": [
    {
     "name": "stdout",
     "output_type": "stream",
     "text": [
      "163.5531713946593\n",
      "163.55317139465942\n",
      "{'Si': [array([0.25, 0.75, 0.25]), array([0. , 0. , 0.5]), array([0.25, 0.25, 0.75]), array([0. , 0.5, 0. ]), array([0.75, 0.75, 0.75]), array([0.5, 0. , 0. ]), array([0.75, 0.25, 0.25]), array([0.5, 0.5, 0.5])]}\n",
      "[[ 4.31304979 -1.15567821 -3.15737158]\n",
      " [-1.15567821  4.31304979 -3.15737158]\n",
      " [ 3.15737158  3.15737158  3.15737158]]\n",
      "0.0489137564975474\n"
     ]
    }
   ],
   "source": [
    "volume = si.cell[:, 0].dot(np.cross(si.cell[:, 1], si.cell[:, 2]))\n",
    "print(volume)\n",
    "print(np.linalg.det(si.cell))\n",
    "print(si.atoms)\n",
    "print(si.cell)\n",
    "print(si.atoms['Si'].__len__()/volume)"
   ]
  },
  {
   "cell_type": "code",
   "execution_count": 48,
   "metadata": {},
   "outputs": [],
   "source": [
    "# PHYSICAL REVIEW B 68, 115322 ~2003!\n",
    "n = 0.81\n",
    "a = 25.09\n",
    "\n",
    "def factor(x, y, z, n=0.81, a=25.09, b=14.43):\n",
    "    top = np.exp(-np.sqrt(x**2/(n*b)**2 + (y**2 + z**2)/(n*a)**2))\n",
    "    bottom = np.sqrt(np.pi * (n * a)**2 * (n * b) )\n",
    "\n",
    "    return top / bottom\n",
    "\n",
    "def contact_si(r, gamma_n, gamma_e=pc.ELECTRON_GYRO, a_lattice=5.43, nu=186, n=0.81, a=25.09, b=14.43):\n",
    "    k0 = 0.85 * 2 * np.pi / a_lattice\n",
    "    pre = 16 * np.pi / 9 * gamma_n * gamma_e * pc.HBAR * nu\n",
    "    xpart = factor(r[0], r[1], r[2], n=n, a=a, b=b) * np.cos(k0 * r[0])\n",
    "    ypart = factor(r[1], r[2], r[0], n=n, a=a, b=b) * np.cos(k0 * r[1])\n",
    "    zpart = factor(r[2], r[0], r[1], n=n, a=a, b=b) * np.cos(k0 * r[2])\n",
    "    return pre * (xpart + ypart + zpart) ** 2"
   ]
  },
  {
   "cell_type": "code",
   "execution_count": 49,
   "metadata": {},
   "outputs": [],
   "source": [
    "atoms.from_point_dipole(np.array([0,0,0]))\n",
    "atoms['A'][atoms.dist() < n*a] = 0\n",
    "# for a in atoms:\n",
    "#     a['A']+= np.eye(3)* contact_si(a['xyz'], atoms.types['29Si'].gyro)\n",
    "atoms['A'] += np.eye(3)[np.newaxis,:,:] * contact_si(atoms['xyz'].T, atoms.types['29Si'].gyro)[:,np.newaxis, np.newaxis] "
   ]
  },
  {
   "cell_type": "code",
   "execution_count": 33,
   "metadata": {},
   "outputs": [
    {
     "data": {
      "text/plain": [
       "-5.3188"
      ]
     },
     "execution_count": 33,
     "metadata": {},
     "output_type": "execute_result"
    }
   ],
   "source": [
    "atoms.types['29Si'].gyro"
   ]
  },
  {
   "cell_type": "code",
   "execution_count": 44,
   "metadata": {},
   "outputs": [
    {
     "name": "stdout",
     "output_type": "stream",
     "text": [
      "825.7270363768954\n",
      "[1.02601764e+08 1.02601764e+08 1.02601764e+08 ... 1.02601764e+08\n",
      " 1.02601764e+08 1.02601764e+08]\n",
      "[3.57242647e-14 1.97690912e-14 1.33577867e-14 ... 4.40223389e-12\n",
      " 4.51537409e-12 1.97815317e-13]\n"
     ]
    },
    {
     "data": {
      "text/plain": [
       "BathArray([3.66537257e-06, 2.02834362e-06, 1.37053247e-06, ...,\n",
       "           4.51676962e-04, 4.63285346e-04, 2.02962004e-05])"
      ]
     },
     "execution_count": 44,
     "metadata": {},
     "output_type": "execute_result"
    }
   ],
   "source": [
    "print(atoms['A'].max())\n",
    "contact_si(atoms['xyz'].T, atoms.gyro)"
   ]
  },
  {
   "cell_type": "code",
   "execution_count": 58,
   "metadata": {},
   "outputs": [],
   "source": [
    "r_bath = 60\n",
    "r_dipole = 10\n",
    "order = 2\n",
    "\n",
    "N = 1\n",
    "timespace = np.linspace(0, 1, 101)\n",
    "B = np.array([0, 0, 5000])\n",
    "Lsi = 0\n",
    "for i in range(10):\n",
    "    calc = pc.Simulator(1/2, [0,0,0], [1,0], [0,1], bath=atoms, hyperfine=None,\n",
    "                        r_bath=r_bath, r_dipole=r_dipole, order=order)\n",
    "    Lsi += calc.compute_coherence(timespace, B, N, as_delay=False)\n",
    "Lsi /= i + 1"
   ]
  },
  {
   "cell_type": "code",
   "execution_count": 60,
   "metadata": {},
   "outputs": [],
   "source": [
    "Lpd = 0\n",
    "for i in range(10):\n",
    "    calc = pc.Simulator(1/2, [0,0,0], [1,0], [0,1], bath=atoms, hyperfine='pd',\n",
    "                        r_bath=r_bath, r_dipole=r_dipole, order=order)\n",
    "    Lpd += calc.compute_coherence(timespace, B, N, as_delay=False)\n",
    "Lpd /= i + 1"
   ]
  },
  {
   "cell_type": "code",
   "execution_count": 64,
   "metadata": {},
   "outputs": [
    {
     "name": "stderr",
     "output_type": "stream",
     "text": [
      "/home/onizhuk/anaconda3/lib/python3.8/site-packages/numpy/core/_asarray.py:85: ComplexWarning: Casting complex values to real discards the imaginary part\n",
      "  return array(a, dtype, copy=False, order=order)\n",
      "/home/onizhuk/anaconda3/lib/python3.8/site-packages/numpy/core/_asarray.py:85: ComplexWarning: Casting complex values to real discards the imaginary part\n",
      "  return array(a, dtype, copy=False, order=order)\n"
     ]
    },
    {
     "data": {
      "text/plain": [
       "(-0.1, 1.1)"
      ]
     },
     "execution_count": 64,
     "metadata": {},
     "output_type": "execute_result"
    },
    {
     "data": {
      "image/png": "[encoded data removed]",
      "text/plain": [
       "<Figure size 432x288 with 1 Axes>"
      ]
     },
     "metadata": {
      "needs_background": "light"
     },
     "output_type": "display_data"
    }
   ],
   "source": [
    "# plt.plot(timespace, Lsi)\n",
    "l = Lsi.real\n",
    "c = l <= 1.1\n",
    "plt.plot(timespace, Lsi, label='model wf')\n",
    "plt.plot(timespace, Lpd, label='pd')\n",
    "plt.legend()\n",
    "plt.ylim(-0.1, 1.1)\n",
    "# f, p = newt2_fit(timespace, Lsi, r=6)\n",
    "# plt.plot(timespace[c], f(timespace[c], *p))\n",
    "# print(p)"
   ]
  },
  {
   "cell_type": "code",
   "execution_count": 5,
   "metadata": {},
   "outputs": [
    {
     "ename": "NameError",
     "evalue": "name 'r_bath' is not defined",
     "output_type": "error",
     "traceback": [
      "\u001b[0;31m---------------------------------------------------------------------------\u001b[0m",
      "\u001b[0;31mNameError\u001b[0m                                 Traceback (most recent call last)",
      "\u001b[0;32m<ipython-input-5-3deb50d3f654>\u001b[0m in \u001b[0;36m<module>\u001b[0;34m\u001b[0m\n\u001b[1;32m      4\u001b[0m \u001b[0;32mfor\u001b[0m \u001b[0mr_dipole\u001b[0m \u001b[0;32min\u001b[0m \u001b[0;34m(\u001b[0m\u001b[0;36m8\u001b[0m\u001b[0;34m,\u001b[0m \u001b[0;36m10\u001b[0m\u001b[0;34m)\u001b[0m\u001b[0;34m:\u001b[0m\u001b[0;34m\u001b[0m\u001b[0;34m\u001b[0m\u001b[0m\n\u001b[1;32m      5\u001b[0m     calc = pc.Simulator(1/2, vc, [1,0], [0, 1], bath_spins=atoms, \n\u001b[0;32m----> 6\u001b[0;31m                         r_bath=r_bath, r_dipole=r_dipole, order=order)\n\u001b[0m\u001b[1;32m      7\u001b[0m     \u001b[0mllist\u001b[0m\u001b[0;34m.\u001b[0m\u001b[0mappend\u001b[0m\u001b[0;34m(\u001b[0m\u001b[0mcalc\u001b[0m\u001b[0;34m.\u001b[0m\u001b[0mcompute_coherence\u001b[0m\u001b[0;34m(\u001b[0m\u001b[0mtimespace\u001b[0m\u001b[0;34m,\u001b[0m \u001b[0mB\u001b[0m\u001b[0;34m,\u001b[0m \u001b[0mN\u001b[0m\u001b[0;34m,\u001b[0m \u001b[0mas_delay\u001b[0m\u001b[0;34m=\u001b[0m\u001b[0;32mFalse\u001b[0m\u001b[0;34m)\u001b[0m\u001b[0;34m)\u001b[0m\u001b[0;34m\u001b[0m\u001b[0;34m\u001b[0m\u001b[0m\n",
      "\u001b[0;31mNameError\u001b[0m: name 'r_bath' is not defined"
     ]
    }
   ],
   "source": [
    "llist = []\n",
    "B = np.array([5000, 0, 0])\n",
    "\n",
    "for r_dipole in (8, 10):\n",
    "    calc = pc.Simulator(1/2, vc, [1,0], [0, 1], bath_spins=atoms, \n",
    "                        r_bath=r_bath, r_dipole=r_dipole, order=order)\n",
    "    llist.append(calc.compute_coherence(timespace, B, N, as_delay=False))"
   ]
  },
  {
   "cell_type": "code",
   "execution_count": 157,
   "metadata": {},
   "outputs": [
    {
     "name": "stdout",
     "output_type": "stream",
     "text": [
      "[0.92785 2.56294]\n"
     ]
    },
    {
     "name": "stderr",
     "output_type": "stream",
     "text": [
      "/home/onizhuk/codes_development/useful_scripts/dmscripts.py:179: RuntimeWarning: invalid value encountered in power\n",
      "  return np.exp(-(t / t2) ** n) * y[0]\n",
      "/home/onizhuk/codes_development/useful_scripts/dmscripts.py:179: RuntimeWarning: invalid value encountered in power\n",
      "  return np.exp(-(t / t2) ** n) * y[0]\n"
     ]
    },
    {
     "data": {
      "image/png": "[encoded data removed]",
      "text/plain": [
       "<Figure size 432x288 with 1 Axes>"
      ]
     },
     "metadata": {
      "needs_background": "light"
     },
     "output_type": "display_data"
    }
   ],
   "source": [
    "import scipy.optimize\n",
    "for l in llist:\n",
    "    l = l.real\n",
    "    c = l <= 1.1\n",
    "    plt.plot(timespace[c], l[c])\n",
    "    plt.ylim(-0.1, 1.1)\n",
    "    f, p = newt2_fit(timespace[c], l[c], r=6)\n",
    "    plt.plot(timespace[c], f(timespace[c], *p))\n",
    "print(p)"
   ]
  },
  {
   "cell_type": "code",
   "execution_count": 80,
   "metadata": {},
   "outputs": [],
   "source": [
    "sic_ase = ase.io.read('4h-sic_conventional.cif')\n",
    "sic = pc.bath.NSpinCell.from_ase_Atoms(sic_ase)\n",
    "sic.add_isotopes(('29Si', 1), ('13C', 1))\n",
    "atoms = si.gen_supercell(10)"
   ]
  },
  {
   "cell_type": "code",
   "execution_count": 90,
   "metadata": {},
   "outputs": [
    {
     "name": "stdout",
     "output_type": "stream",
     "text": [
      "83.96315758938724\n",
      "\n",
      "[[ 3.09401 -1.547    0.     ]\n",
      " [ 0.       2.67949  0.     ]\n",
      " [ 0.       0.      10.12782]]\n",
      "0.04763994250384875\n"
     ]
    }
   ],
   "source": [
    "volume = np.linalg.det(sic.cell.T)\n",
    "print(sic.cell)\n",
    "print(sic.atoms['Si'].__len__()/volume)"
   ]
  },
  {
   "cell_type": "code",
   "execution_count": 30,
   "metadata": {},
   "outputs": [
    {
     "name": "stdout",
     "output_type": "stream",
     "text": [
      "True\n",
      "True\n"
     ]
    },
    {
     "name": "stderr",
     "output_type": "stream",
     "text": [
      "C:\\ProgramData\\Anaconda3\\lib\\site-packages\\numpy\\core\\_asarray.py:83: ComplexWarning: Casting complex values to real discards the imaginary part\n",
      "  return array(a, dtype, copy=False, order=order)\n",
      "C:\\ProgramData\\Anaconda3\\lib\\site-packages\\numpy\\core\\_asarray.py:83: ComplexWarning: Casting complex values to real discards the imaginary part\n",
      "  return array(a, dtype, copy=False, order=order)\n"
     ]
    },
    {
     "data": {
      "text/plain": [
       "[<matplotlib.lines.Line2D at 0x2749c507fc8>]"
      ]
     },
     "execution_count": 30,
     "metadata": {},
     "output_type": "execute_result"
    },
    {
     "data": {
      "image/png": "[encoded data removed]",
      "text/plain": [
       "<Figure size 432x288 with 1 Axes>"
      ]
     },
     "metadata": {
      "needs_background": "light"
     },
     "output_type": "display_data"
    }
   ],
   "source": [
    "import numpy as np\n",
    "\n",
    "ts = np.linspace(0, 2, 201)\n",
    "\n",
    "lp = np.load(f'Z:/codes_development/pyCCE/testing/parallel.npy', allow_pickle=True)\n",
    "l = np.load(f'Z:/codes_development/pyCCE/testing/single.npy', allow_pickle=True)\n",
    "\n",
    "dlp = np.load(f'Z:/codes_development/pyCCE/testing/dparallel.npy', allow_pickle=True)\n",
    "dl = np.load(f'Z:/codes_development/pyCCE/testing/dsingle.npy', allow_pickle=True)\n",
    "\n",
    "print(np.isclose(l,lp).all())\n",
    "print(np.isclose(dlp,lp).all())\n",
    "plt.plot(ts, l)\n",
    "plt.plot(ts, lp)\n"
   ]
  }
 ],
 "metadata": {
  "kernelspec": {
   "display_name": "Python 3",
   "language": "python",
   "name": "python3"
  },
  "language_info": {
   "codemirror_mode": {
    "name": "ipython",
    "version": 3
   },
   "file_extension": ".py",
   "mimetype": "text/x-python",
   "name": "python",
   "nbconvert_exporter": "python",
   "pygments_lexer": "ipython3",
   "version": "3.8.3"
  }
 },
 "nbformat": 4,
 "nbformat_minor": 4
}
