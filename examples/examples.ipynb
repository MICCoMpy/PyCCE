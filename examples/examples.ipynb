{
 "cells": [
  {
   "cell_type": "markdown",
   "metadata": {
    "pycharm": {
     "name": "#%% md\n"
    }
   },
   "source": [
    "$$\\newcommand{\\ket}[1]{\\left|{#1}\\right\\rangle}$$\n",
    "$$\\newcommand{\\bra}[1]{\\left\\langle{#1}\\right|}$$\n",
    "$$\\newcommand{\\braket}[2]{\\left\\langle{#1}\\middle|{#2}\\right\\rangle}$$\n",
    "\n",
    "# Examples of using pyCCE code"
   ]
  },
  {
   "cell_type": "code",
   "execution_count": 3,
   "metadata": {
    "pycharm": {
     "name": "#%%\n"
    }
   },
   "outputs": [],
   "source": [
    "import numpy as np\n",
    "import matplotlib.pyplot as plt\n",
    "\n",
    "\n",
    "# Install a pip package in the current Jupyter kernel\n",
    "import sys\n",
    "sys.path.append('/home/onizhuk/midway/codes_development/pyCCE')\n",
    "import pycce as pc\n",
    "# !{sys.executable} -m pip install --user ase\n",
    "# !{sys.executable} -m pip install --user numpy --upgrade\n",
    "\n",
    "import ase\n",
    "\n",
    "np.random.seed(42055)\n",
    "np.set_printoptions(suppress=True, precision=5)"
   ]
  },
  {
   "cell_type": "markdown",
   "metadata": {
    "pycharm": {
     "name": "#%% md\n"
    }
   },
   "source": [
    "# NV Center in Diamond\n",
    "An example of computing Hahn-echo coherence function using all three available methods: \n",
    "* Conventional CCE\n",
    "* Generalized CCE\n",
    "* Generalized CCE with Monte-Carlo bath sampling (gCCE)"
   ]
  },
  {
   "cell_type": "markdown",
   "metadata": {
    "pycharm": {
     "name": "#%% md\n"
    }
   },
   "source": [
    "### Generate nuclear spin bath\n",
    "Building a supercell of nuclear spins from the `ase.Atoms` object."
   ]
  },
  {
   "cell_type": "code",
   "execution_count": 9,
   "metadata": {},
   "outputs": [],
   "source": [
    "from ase.build import bulk\n",
    "\n",
    "# Generate unitcell from ase\n",
    "diamond = bulk('C', 'diamond', cubic=True)\n",
    "diamond = pc.bath.BathCell.from_ase(diamond)\n",
    "# Add types of isotopes\n",
    "diamond.add_isotopes(('13C', 0.011))\n",
    "# set z direction of the defect\n",
    "diamond.zdir = [1, 1, 1]\n",
    "# Generate supercell\n",
    "                              # Add the defect. remove and add atoms at the positions (in cell coordinates) \n",
    "atoms = diamond.gen_supercell(200, remove=[('C', [0., 0, 0]),\n",
    "                                           ('C', [0.5, 0.5, 0.5])],\n",
    "                              add=('14N', [0.5, 0.5, 0.5]))"
   ]
  },
  {
   "cell_type": "markdown",
   "metadata": {
    "pycharm": {
     "name": "#%% md\n"
    }
   },
   "source": [
    "### CCE Simulator\n",
    "Setting the parameters of CCE engine"
   ]
  },
  {
   "cell_type": "code",
   "execution_count": 10,
   "metadata": {
    "pycharm": {
     "name": "#%%\n"
    }
   },
   "outputs": [],
   "source": [
    "# Parameters of CCE calculations engine\n",
    "\n",
    "# Order of CCE aproximation\n",
    "CCE_order = 2\n",
    "# Bath cutoff radius\n",
    "r_bath = 40  # in A\n",
    "# Cluster cutoff radius\n",
    "r_dipole = 8  # in A\n",
    "# The code already knows most exsiting isotopes.\n",
    "#              Bath spin types\n",
    "#              name    spin    gyro       quadrupole moment (for s>1/2)\n",
    "spin_types = [('14N',  1,      1.9338,    20.44),\n",
    "              ('13C',  1 / 2,  6.72828),\n",
    "              ('29Si', 1 / 2, -5.3188),]\n",
    "# position of central spin\n",
    "position = [0, 0, 0]\n",
    "# Qubit levels (in Sz basis)\n",
    "alpha = [0, 0, 1]; beta = [0, 1, 0]\n",
    "\n",
    "# Setting the runner engine\n",
    "calc = pc.Simulator(spin=1, position=position, alpha=alpha, beta=beta,\n",
    "                    types=spin_types,\n",
    "                    bath=atoms, r_bath=r_bath,\n",
    "                    r_dipole=r_dipole, order=CCE_order)\n",
    "\n",
    "nspin = calc.bath\n",
    "# Set model quadrupole tensor at N atom\n",
    "nspin['Q'][nspin['N'] == '14N'] = np.asarray([[-2.5, 0, 0],\n",
    "                                              [0, -2.5, 0],\n",
    "                                              [0, 0,  5.0]]) * 1e3 * 2 * np.pi"
   ]
  },
  {
   "cell_type": "markdown",
   "metadata": {
    "pycharm": {
     "name": "#%% md\n"
    }
   },
   "source": [
    "### Compute coherence function with conventional CCE"
   ]
  },
  {
   "cell_type": "code",
   "execution_count": 11,
   "metadata": {},
   "outputs": [],
   "source": [
    "# Time points\n",
    "time_space = np.linspace(0, 2, 201)  # in ms\n",
    "# Number of pulses in CPMG seq (0 = FID, 1 = HE)\n",
    "N = 1\n",
    "# Mag. Field (Bx By Bz)\n",
    "B = np.array([0, 0, 100])  # in G\n",
    "\n",
    "Lconv = calc.compute_coherence(time_space, B, N, as_delay=False)"
   ]
  },
  {
   "cell_type": "markdown",
   "metadata": {},
   "source": [
    "### Generalized CCE"
   ]
  },
  {
   "cell_type": "code",
   "execution_count": 12,
   "metadata": {},
   "outputs": [],
   "source": [
    "# ZFS Parametters of NV center in diamond\n",
    "D = 2.88 * 1e6 * 2 * np.pi # in kHz * rad\n",
    "E = 0 # in kHz * rad\n",
    "# Hahn-echo pulse sequence\n",
    "pulse_sequence = [('x', np.pi)]\n",
    "\n",
    "# Calculate all elements of the density matrix and extract coherence function\n",
    "dms = calc.compute_dmatrix(time_space, B, D, E, pulse_sequence)\n",
    "Lgen = np.einsum('a,iab,b->i', calc.alpha, dms, calc.beta)\n",
    "Lgen = Lgen/Lgen[0]"
   ]
  },
  {
   "cell_type": "markdown",
   "metadata": {
    "pycharm": {
     "name": "#%% md\n"
    }
   },
   "source": [
    "### Generalized CCE with random sampling of bath states (gCCE)"
   ]
  },
  {
   "cell_type": "code",
   "execution_count": 13,
   "metadata": {},
   "outputs": [],
   "source": [
    "# Number of random bath states to sample over\n",
    "n_bath_states = 100\n",
    "\n",
    "# Calculate all elements of the density matrix and extract coherence function\n",
    "meanfield_dms = calc.compute_mf_dm(time_space, B, D, E, pulse_sequence, nbstates=n_bath_states)\n",
    "Lmf = np.einsum('a,iab,b->i', calc.alpha, meanfield_dms, calc.beta)\n",
    "Lmf = Lmf / Lmf[0]"
   ]
  },
  {
   "cell_type": "markdown",
   "metadata": {
    "pycharm": {
     "name": "#%% md\n"
    }
   },
   "source": [
    "Plot all of the results and check that they produce similar results"
   ]
  },
  {
   "cell_type": "code",
   "execution_count": 15,
   "metadata": {},
   "outputs": [
    {
     "name": "stderr",
     "output_type": "stream",
     "text": [
      "/home/onizhuk/anaconda3/lib/python3.8/site-packages/numpy/core/_asarray.py:85: ComplexWarning: Casting complex values to real discards the imaginary part\n",
      "  return array(a, dtype, copy=False, order=order)\n",
      "/home/onizhuk/anaconda3/lib/python3.8/site-packages/numpy/core/_asarray.py:85: ComplexWarning: Casting complex values to real discards the imaginary part\n",
      "  return array(a, dtype, copy=False, order=order)\n",
      "/home/onizhuk/anaconda3/lib/python3.8/site-packages/numpy/core/_asarray.py:85: ComplexWarning: Casting complex values to real discards the imaginary part\n",
      "  return array(a, dtype, copy=False, order=order)\n"
     ]
    },
    {
     "data": {
      "text/plain": [
       "Text(0, 0.5, 'L')"
      ]
     },
     "execution_count": 15,
     "metadata": {},
     "output_type": "execute_result"
    },
    {
     "data": {
      "image/png": "[encoded data removed]",
      "text/plain": [
       "<Figure size 432x288 with 1 Axes>"
      ]
     },
     "metadata": {
      "needs_background": "light"
     },
     "output_type": "display_data"
    }
   ],
   "source": [
    "plt.plot(time_space, Lconv, label='conventional CCE')\n",
    "plt.plot(time_space, Lgen, label='generalized CCE', ls='--')\n",
    "plt.plot(time_space, Lmf, label='gCCE', ls='', marker='.')\n",
    "\n",
    "plt.legend()\n",
    "plt.xlabel('Time, ms')\n",
    "plt.ylabel('L')"
   ]
  },
  {
   "cell_type": "markdown",
   "metadata": {
    "pycharm": {
     "name": "#%% md\n"
    }
   },
   "source": [
    "# VV in SiC\n",
    "An example of computing FID with GIPAW computed A"
   ]
  },
  {
   "cell_type": "code",
   "execution_count": 16,
   "metadata": {},
   "outputs": [],
   "source": [
    "# Set up unit cell with (a, b, c, alpha, beta, gamma)\n",
    "sic = pc.bath.BathCell(3.073, 3.073, 10.053, 90, 90, 120, 'deg')\n",
    "# z axis in cell coordinates\n",
    "sic.zdir = [0, 0, 1]\n",
    "# position of atoms\n",
    "sic.add_atoms(('Si', [0.00000000, 0.00000000, 0.1880]),\n",
    "              ('Si', [0.00000000, 0.00000000, 0.6880]),\n",
    "              ('Si', [0.33333333, 0.66666667, 0.4380]),\n",
    "              ('Si', [0.66666667, 0.33333333, 0.9380]),\n",
    "              ('C', [0.00000000, 0.00000000, 0.0000]),\n",
    "              ('C', [0.00000000, 0.00000000, 0.5000]),\n",
    "              ('C', [0.33333333, 0.66666667, 0.2500]),\n",
    "              ('C', [0.66666667, 0.33333333, 0.7500]))\n",
    "# isotopes \n",
    "sic.add_isotopes(('29Si', 0.047), ('13C', 0.011))\n",
    "\n",
    "# defect position in cell units\n",
    "vsi_cell = [0, 0, 0.1880]\n",
    "vc_cell = [0, 0, 0]\n",
    "\n",
    "# Generate bath spin positions\n",
    "atoms = sic.gen_supercell(200, remove=[('Si', vsi_cell),\n",
    "                                       ('C', vc_cell)])"
   ]
  },
  {
   "cell_type": "markdown",
   "metadata": {
    "pycharm": {
     "name": "#%% md\n"
    }
   },
   "source": [
    "## Read Quntum Espresso output"
   ]
  },
  {
   "cell_type": "code",
   "execution_count": 19,
   "metadata": {},
   "outputs": [],
   "source": [
    "# Prepare rotation matrix to alling with z axis of generated atoms\n",
    "# This matrix, acting on the [0, 0, 1] in Cartesian coordinates of GIPAW output\n",
    "# Should produce [a, b, c] vector, alligned with zdirection of the NSpinCell\n",
    "M = np.array([[0, 0, -1],\n",
    "              [0, -1, 0],\n",
    "              [-1, 0, 0]])\n",
    "\n",
    "# Cell coordinates to change coordinates in exatoms from cell to cartesian\n",
    "cell = np.array([[20.272033, 0.000000, 0.000000],\n",
    "                 [0.000000, 26.811944, 0.000000],\n",
    "                 [0.000000, 0.000000, 27.863846]])\n",
    "\n",
    "# Position of (0,0,0) point in cell coordinates\n",
    "center = [0.6, 0.5, 0.5]\n",
    "# Read GIPAW results\n",
    "exatoms = pc.bath.read_qe('gipaw/pw.in',\n",
    "                          hyperfine='gipaw/gipaw.out',\n",
    "                          center=center, rotation_matrix=M, rm_style='row',\n",
    "                          which_isotopes={'C':'13C', 'Si':'29Si'})"
   ]
  },
  {
   "cell_type": "code",
   "execution_count": 20,
   "metadata": {},
   "outputs": [
    {
     "data": {
      "text/plain": [
       "SpinDict({'13C': (13C, 0.5, 6.7283, 0), '29Si': (29Si, 0.5, -5.3188, 0)})"
      ]
     },
     "execution_count": 20,
     "metadata": {},
     "output_type": "execute_result"
    }
   ],
   "source": [
    "# Check the types of nuclear spins\n",
    "exatoms.types"
   ]
  },
  {
   "cell_type": "code",
   "execution_count": 31,
   "metadata": {},
   "outputs": [],
   "source": [
    "# Setting up CCE calculations\n",
    "pos = sic.to_cartesian(vsi_cell)\n",
    "N = 0\n",
    "CCE_order = 2\n",
    "r_bath = 40\n",
    "r_dipole = 8\n",
    "time_space = np.linspace(0, 0.01, 501)\n",
    "\n",
    "B = np.array([0, 0, 500])\n",
    "calc = pc.Simulator(1, pos, [0, 0, 1], [0, 1, 0])\n",
    "# Separately read bath\n",
    "calc.read_bath(atoms, r_bath,\n",
    "               external_bath=exatoms)\n",
    "calc.generate_clusters(CCE_order, r_dipole=r_dipole);"
   ]
  },
  {
   "cell_type": "code",
   "execution_count": 32,
   "metadata": {},
   "outputs": [],
   "source": [
    "Lsic = calc.compute_coherence(time_space, B, N, as_delay=False)"
   ]
  },
  {
   "cell_type": "code",
   "execution_count": 33,
   "metadata": {},
   "outputs": [
    {
     "name": "stderr",
     "output_type": "stream",
     "text": [
      "/home/onizhuk/anaconda3/lib/python3.8/site-packages/numpy/core/_asarray.py:85: ComplexWarning: Casting complex values to real discards the imaginary part\n",
      "  return array(a, dtype, copy=False, order=order)\n"
     ]
    },
    {
     "data": {
      "text/plain": [
       "Text(0, 0.5, 'L')"
      ]
     },
     "execution_count": 33,
     "metadata": {},
     "output_type": "execute_result"
    },
    {
     "data": {
      "image/png": "[encoded data removed]",
      "text/plain": [
       "<Figure size 432x288 with 1 Axes>"
      ]
     },
     "metadata": {
      "needs_background": "light"
     },
     "output_type": "display_data"
    }
   ],
   "source": [
    "plt.plot(time_space, Lsic)\n",
    "plt.xlabel('Time, ms')\n",
    "plt.ylabel('L')"
   ]
  },
  {
   "cell_type": "markdown",
   "metadata": {
    "pycharm": {
     "name": "#%% md\n"
    }
   },
   "source": [
    "# Si\n",
    "Comparison between point dipole and shallow hyperfine"
   ]
  },
  {
   "cell_type": "code",
   "execution_count": 44,
   "metadata": {},
   "outputs": [],
   "source": [
    "from ase.build import bulk\n",
    "\n",
    "# Generate unitcell from ase\n",
    "s = bulk('Si', cubic=True)\n",
    "s = pc.bath.BathCell.from_ase(s)\n",
    "# Add types of isotopes\n",
    "s.add_isotopes(('29Si', 0.047))\n",
    "# set z direction of the defect\n",
    "s.zdir = [1, 1, 1]\n",
    "# Generate supercell\n",
    "atoms = s.gen_supercell(200, remove=[('Si', [0., 0., 0.])])"
   ]
  },
  {
   "cell_type": "code",
   "execution_count": 45,
   "metadata": {},
   "outputs": [],
   "source": [
    "# Parameters of CCE calculations engine\n",
    "\n",
    "# Order of CCE aproximation\n",
    "CCE_order = 2\n",
    "# Bath cutoff radius\n",
    "r_bath = 60  # in A\n",
    "# Cluster cutoff radius\n",
    "r_dipole = 10  # in A\n",
    "\n",
    "# position of central spin\n",
    "position = [0, 0, 0]\n",
    "# Qubit levels (in Sz basis)\n",
    "alpha = [0,1]; beta = [1,0]\n",
    "\n",
    "# Setting the runner engine\n",
    "calc = pc.Simulator(spin=1/2, position=position, alpha=alpha, beta=beta,\n",
    "                    bath=atoms, r_bath=r_bath,\n",
    "                    r_dipole=r_dipole, order=CCE_order)"
   ]
  },
  {
   "cell_type": "code",
   "execution_count": 46,
   "metadata": {},
   "outputs": [],
   "source": [
    "# Time points\n",
    "time_space = np.linspace(0, 2, 201)  # in ms\n",
    "# Number of pulses in CPMG seq (0 = FID, 1 = HE)\n",
    "N = 1\n",
    "# Mag. Field (Bx By Bz)\n",
    "B = np.array([0, 0, 1000])  # in G\n",
    "\n",
    "Lsi_pd = calc.compute_coherence(time_space, B, N, as_delay=False)"
   ]
  },
  {
   "cell_type": "markdown",
   "metadata": {
    "pycharm": {
     "name": "#%% md\n"
    }
   },
   "source": [
    "### Hyperfines of the shallow donor"
   ]
  },
  {
   "cell_type": "code",
   "execution_count": 47,
   "metadata": {},
   "outputs": [],
   "source": [
    "# PHYSICAL REVIEW B 68, 115322 (2003)\n",
    "n = 0.81\n",
    "a = 25.09\n",
    "\n",
    "def factor(x, y, z, n=0.81, a=25.09, b=14.43):\n",
    "    top = np.exp(-np.sqrt(x**2/(n*b)**2 + (y**2 + z**2)/(n*a)**2))\n",
    "    bottom = np.sqrt(np.pi * (n * a)**2 * (n * b) )\n",
    "\n",
    "    return top / bottom\n",
    "\n",
    "def contact_si(r, gamma_n, gamma_e=pc.ELECTRON_GYRO, a_lattice=5.43, nu=186, n=0.81, a=25.09, b=14.43):\n",
    "    k0 = 0.85 * 2 * np.pi / a_lattice\n",
    "    pre = 16 * np.pi / 9 * gamma_n * gamma_e * pc.HBAR * nu\n",
    "    xpart = factor(r[0], r[1], r[2], n=n, a=a, b=b) * np.cos(k0 * r[0])\n",
    "    ypart = factor(r[1], r[2], r[0], n=n, a=a, b=b) * np.cos(k0 * r[1])\n",
    "    zpart = factor(r[2], r[0], r[1], n=n, a=a, b=b) * np.cos(k0 * r[2])\n",
    "    return pre * (xpart + ypart + zpart) ** 2"
   ]
  },
  {
   "cell_type": "code",
   "execution_count": 52,
   "metadata": {},
   "outputs": [],
   "source": [
    "newatoms = atoms.copy()\n",
    "\n",
    "# Generate hyperfine from point dipole\n",
    "newatoms.from_point_dipole(np.array([0,0,0]))\n",
    "\n",
    "# Following PRB paper\n",
    "newatoms['A'][newatoms.dist() < n*a] = 0\n",
    "newatoms['A'] += np.eye(3)[np.newaxis,:,:] * contact_si(newatoms['xyz'].T, newatoms.types['29Si'].gyro)[:,np.newaxis, np.newaxis] "
   ]
  },
  {
   "cell_type": "code",
   "execution_count": 53,
   "metadata": {},
   "outputs": [],
   "source": [
    "calc = pc.Simulator(spin=1/2, position=position, alpha=alpha, beta=beta,\n",
    "                    bath=newatoms, r_bath=r_bath,\n",
    "                    r_dipole=r_dipole, order=CCE_order)\n",
    "\n",
    "Lsi_shallow = calc.compute_coherence(time_space, B, N, as_delay=False)"
   ]
  },
  {
   "cell_type": "code",
   "execution_count": 55,
   "metadata": {},
   "outputs": [
    {
     "name": "stderr",
     "output_type": "stream",
     "text": [
      "/home/onizhuk/anaconda3/lib/python3.8/site-packages/numpy/core/_asarray.py:85: ComplexWarning: Casting complex values to real discards the imaginary part\n",
      "  return array(a, dtype, copy=False, order=order)\n",
      "/home/onizhuk/anaconda3/lib/python3.8/site-packages/numpy/core/_asarray.py:85: ComplexWarning: Casting complex values to real discards the imaginary part\n",
      "  return array(a, dtype, copy=False, order=order)\n"
     ]
    },
    {
     "data": {
      "text/plain": [
       "Text(0, 0.5, 'L')"
      ]
     },
     "execution_count": 55,
     "metadata": {},
     "output_type": "execute_result"
    },
    {
     "data": {
      "image/png": "[encoded data removed]",
      "text/plain": [
       "<Figure size 432x288 with 1 Axes>"
      ]
     },
     "metadata": {
      "needs_background": "light"
     },
     "output_type": "display_data"
    }
   ],
   "source": [
    "plt.plot(time_space, Lsi_pd)\n",
    "plt.plot(time_space, Lsi_shallow)\n",
    "plt.xlabel('Time (ms)')\n",
    "plt.ylabel('L')"
   ]
  }
 ],
 "metadata": {
  "kernelspec": {
   "display_name": "Python 3",
   "language": "python",
   "name": "python3"
  },
  "language_info": {
   "codemirror_mode": {
    "name": "ipython",
    "version": 3
   },
   "file_extension": ".py",
   "mimetype": "text/x-python",
   "name": "python",
   "nbconvert_exporter": "python",
   "pygments_lexer": "ipython3",
   "version": "3.8.3"
  },
  "pycharm": {
   "stem_cell": {
    "cell_type": "raw",
    "source": [],
    "metadata": {
     "collapsed": false
    }
   }
  }
 },
 "nbformat": 4,
 "nbformat_minor": 4
}