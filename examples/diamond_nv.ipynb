{
 "cells": [
  {
   "cell_type": "markdown",
   "metadata": {
    "pycharm": {
     "name": "#%% md\n"
    }
   },
   "source": [
    "# NV Center in Diamond\n",
    "In this tutorial we will go over the main steps of running CCE calculations for NV center in diamond with `pycce` module. Those include:\n",
    "\n",
    "* Generating spin bath using `pycce.BathCell` instance.\n",
    "* Setting up properties of the `pycce.Simulator` instance.\n",
    "* Running the calculations with `Simulator.compute` function.\n",
    "\n",
    "We will compute Hahn-echo coherence function (with decoupling $\\pi$-pulse applied) using all three available methods: \n",
    "\n",
    "* Conventional CCE.\n",
    "* Generalized CCE (gCCE).\n",
    "* gCCE with Monte-Carlo bath sampling.\n"
   ]
  },
  {
   "cell_type": "code",
   "execution_count": 1,
   "metadata": {
    "pycharm": {
     "name": "#%%\n"
    }
   },
   "outputs": [],
   "source": [
    "import numpy as np\n",
    "import matplotlib.pyplot as plt\n",
    "import pandas as pd\n",
    "\n",
    "import sys\n",
    "import pycce as pc\n",
    "import ase\n",
    "\n",
    "from mpl_toolkits import mplot3d\n",
    "\n",
    "seed = 8805\n",
    "np.random.seed(seed)\n",
    "np.set_printoptions(suppress=True, precision=5)"
   ]
  },
  {
   "cell_type": "markdown",
   "metadata": {
    "pycharm": {
     "name": "#%% md\n"
    }
   },
   "source": [
    "## Generate nuclear spin bath\n",
    "Building a supercell of nuclear spins from the `ase.Atoms` object.."
   ]
  },
  {
   "cell_type": "markdown",
   "metadata": {},
   "source": [
    "### Build BathCell\n",
    "\n",
    "To do it from `ase.atoms` object, use classmethod `BathCell.from_ase`."
   ]
  },
  {
   "cell_type": "code",
   "execution_count": 2,
   "metadata": {},
   "outputs": [],
   "source": [
    "from ase.build import bulk\n",
    "\n",
    "# Generate unitcell from ase\n",
    "diamond = bulk('C', 'diamond', cubic=True)\n",
    "diamond = pc.bath.BathCell.from_ase(diamond)"
   ]
  },
  {
   "cell_type": "markdown",
   "metadata": {},
   "source": [
    "The following attributes created with this initiallization:\n",
    "\n",
    "* `.cell` is ndarray containing information of lattice vectors. Each **column** is a lattice vector in the cartesian coordinates.\n",
    "* `.atoms` is a dictionary with keys corresponding to the atom name, and each item is a list of the coordinates in cell coordinates."
   ]
  },
  {
   "cell_type": "code",
   "execution_count": 3,
   "metadata": {},
   "outputs": [
    {
     "name": "stdout",
     "output_type": "stream",
     "text": [
      "Cell\n",
      " [[3.57 0.   0.  ]\n",
      " [0.   3.57 0.  ]\n",
      " [0.   0.   3.57]]\n",
      "\n",
      "Atoms\n",
      " {'C': [array([0., 0., 0.]), array([0.25, 0.25, 0.25]), array([0. , 0.5, 0.5]), array([0.25, 0.75, 0.75]), array([0.5, 0. , 0.5]), array([0.75, 0.25, 0.75]), array([0.5, 0.5, 0. ]), array([0.75, 0.75, 0.25])]}\n"
     ]
    }
   ],
   "source": [
    "print('Cell\\n', diamond.cell)\n",
    "print('\\nAtoms\\n', diamond.atoms)"
   ]
  },
  {
   "cell_type": "markdown",
   "metadata": {},
   "source": [
    "### Populate BathCell with isotopes\n",
    "\n",
    "Use function `BathCell.add_isotopes` to add one (or several) isotopes of the element with tuples containing name of the isotope and it's concentration. \n",
    "Name of the isotope includes number and element symbol, provided in the `atoms` object. Returns dictionary `BathCell.isotopes` which can be modified directly. Structure of the dictionary:\n",
    "\n",
    "```\n",
    "{element_1: {isotope_1: concentration, isotope_2: concentration},\n",
    " element_2: {isotope_3: concentration ...}}\n",
    "```\n"
   ]
  },
  {
   "cell_type": "code",
   "execution_count": 4,
   "metadata": {},
   "outputs": [
    {
     "data": {
      "text/plain": [
       "{'C': {'13C': 0.011}}"
      ]
     },
     "execution_count": 4,
     "metadata": {},
     "output_type": "execute_result"
    }
   ],
   "source": [
    "# Add types of isotopes\n",
    "diamond.add_isotopes(('13C', 0.011))"
   ]
  },
  {
   "cell_type": "markdown",
   "metadata": {},
   "source": [
    "The direct addition of the isotopes to the `BathCell.isotopes` can also be done. Here we are adding a dummy isotope without the nuclear spin:"
   ]
  },
  {
   "cell_type": "code",
   "execution_count": 5,
   "metadata": {},
   "outputs": [],
   "source": [
    "diamond.isotopes['C']['14C'] = 0.001"
   ]
  },
  {
   "cell_type": "markdown",
   "metadata": {},
   "source": [
    "### Set z-direction of the bath (optional)\n",
    "\n",
    "In the `Simulator` object everything is set in $S_z$ basis. When quantization axis of the defect does not allign with (0, 0, 1) direction of the crystal axis, the user has to set it themselves."
   ]
  },
  {
   "cell_type": "code",
   "execution_count": 6,
   "metadata": {},
   "outputs": [],
   "source": [
    "# set z direction of the defect\n",
    "diamond.zdir = [1, 1, 1]"
   ]
  },
  {
   "cell_type": "markdown",
   "metadata": {},
   "source": [
    "### Generate spin bath\n",
    "\n",
    "To generate spin bath, use `BathCell.gen_supercell` function. First argument is the approx. linear size of the supercell. Additional keyword arguments `remove` and `add`.\n",
    "\n",
    "`remove` takes a tuple or list of tuples of the atomic positions to remove in the final supercell (if applicable). First element of the tuple is the name of the **atom** at that location, second element - coordinates in unit cell coordinates.\n",
    "\n",
    "`add` takes a tuple or list of tuples of the isotopes to add in the final supercell. First element of the tuple is the name of the **isotope** at that location, second element - coordinates in unit cell coordinates."
   ]
  },
  {
   "cell_type": "code",
   "execution_count": 7,
   "metadata": {},
   "outputs": [
    {
     "name": "stderr",
     "output_type": "stream",
     "text": [
      "/home/onizhuk/midway/codes_development/pyCCE/pycce/bath/array.py:166: UserWarning: Spin type for 14C was not provided and was not found in common isotopes.\n",
      "  obj[n] = array[n]\n"
     ]
    }
   ],
   "source": [
    "# Add the defect. remove and add atoms at the positions (in cell coordinates) \n",
    "atoms = diamond.gen_supercell(200, remove=[('C', [0., 0, 0]),\n",
    "                                           ('C', [0.5, 0.5, 0.5])],\n",
    "                              add=('14N', [0.5, 0.5, 0.5]),\n",
    "                              seed=seed)"
   ]
  },
  {
   "cell_type": "markdown",
   "metadata": {},
   "source": [
    "Note, that because `14C` isotope doesn't have nuclear spin, pyCCE does not find it in common isotopes, and raises a warning. We have to provide `SpinType` for it separately."
   ]
  },
  {
   "cell_type": "markdown",
   "metadata": {},
   "source": [
    "## BathArray Structure\n",
    "The bath spins are stored in `BathArray` object - a subclass of `np.ndarray` with fixed datastructure:\n",
    "\n",
    "* `N` field `dtype('<U16')` contains the names of bath spins.\n",
    "* `xyz` field `dtype('<f8', (3,))` contains the positions of bath spins (in A).\n",
    "* `A` field `dtype('<f8', (3, 3))` contains the hyperfine coupling of bath spins (in kHz).\n",
    "* `Q` field `dtype('<f8', (3, 3))` contains the quadrupole tensor of bath spins (in kHz) (Relevant for spin >= 1).\n",
    "\n",
    "All of the fields are accesible as attributes of `BathArray`.\n",
    "\n",
    "At the moment of generation of array from the cell, the `Q` and `A` fields are empty. The Hyperfine couplings will be automatically computed by the `Simulator` object, however the quadrupole couplings have to be set by the user."
   ]
  },
  {
   "cell_type": "code",
   "execution_count": 8,
   "metadata": {},
   "outputs": [
    {
     "name": "stdout",
     "output_type": "stream",
     "text": [
      "Names\n",
      " ['13C' '13C']\n",
      "\n",
      "Coordinates\n",
      " [[-13.97678  -1.48178 -92.75132]\n",
      " [ 27.89939  42.17939 -45.86038]]\n",
      "\n",
      "Hyperfine tensors\n",
      " [[[0. 0. 0.]\n",
      "  [0. 0. 0.]\n",
      "  [0. 0. 0.]]\n",
      "\n",
      " [[0. 0. 0.]\n",
      "  [0. 0. 0.]\n",
      "  [0. 0. 0.]]]\n",
      "\n",
      "Quadrupole tensors\n",
      " [[[0. 0. 0.]\n",
      "  [0. 0. 0.]\n",
      "  [0. 0. 0.]]\n",
      "\n",
      " [[0. 0. 0.]\n",
      "  [0. 0. 0.]\n",
      "  [0. 0. 0.]]]\n"
     ]
    }
   ],
   "source": [
    "print('Names\\n', atoms[:2].N)\n",
    "print('\\nCoordinates\\n', atoms[:2].xyz)\n",
    "print('\\nHyperfine tensors\\n', atoms[:2].A)\n",
    "print('\\nQuadrupole tensors\\n',atoms[:2].Q)"
   ]
  },
  {
   "cell_type": "markdown",
   "metadata": {},
   "source": [
    "The properties of spin types (e.g. gyro, quadrupole moment, etc) are stored in `BathArray.types` attribute, which is instance of `SpinDict` containing `SpinType` classes. For most known isotopes `SpinType` can be found in the `pycce.common_isotopes` dictionary, and is set from there by default (including electron spin-1/2, which is denoted by setting `N = e`). User can add additional `SpinType` objects, by calling `BathArray.add_type` method, or setting elements of `SpinDict` directly. For details of first approach see help for `SpinDict.add_type` method.\n",
    "\n",
    "The direct setting of types is rather simple. User can set elements of `SpinDict` with tupple, containing: `(spin, gyromagnetic ratio, quadrupole moment (optional), detuning (optional))` **OR** `(isotope, gyromagnetic ratio, quadrupole moment (optional), detuning (optional))`  where `isotope` is the name of the `spin` (same one as in `N` field of `BathArray`) to define new `SpinType` object. The key of `SpinDict` **has** to be the correct name of the spin (`isotope` field in the tuple). Units of gyromagnetic ratio are kHz * rad / G, quadrupole moments are given in barn, detunings are given in kHz * rad."
   ]
  },
  {
   "cell_type": "code",
   "execution_count": 9,
   "metadata": {},
   "outputs": [
    {
     "name": "stdout",
     "output_type": "stream",
     "text": [
      "SpinDict(13C: (0.5, 6.7283), 14N: (1.0, 1.9338, 0.0204), 14C: (0.0, 0.0000), ...)\n"
     ]
    }
   ],
   "source": [
    "# Several ways to set SpinDict elements\n",
    "atoms.types['14C'] = 0, 0, 0\n",
    "atoms.types['Y'] = ('Y', 0, 0, 0)\n",
    "atoms.types['A'] = pc.SpinType('A', 0, 0, 0)\n",
    "\n",
    "print(atoms.types)"
   ]
  },
  {
   "cell_type": "markdown",
   "metadata": {
    "pycharm": {
     "name": "#%% md\n"
    }
   },
   "source": [
    "## Simulator class\n",
    "\n",
    "Setting the parameters of CCE simulator engine.\n",
    "\n",
    "Main parameters to consider:\n",
    "\n",
    "* `alpha` — first qubit state in $S_z$ basis;\n",
    "* `beta` — second qubit state in $S_z$ basis;\n",
    "* `position` — coordinates of the central spin;\n",
    "* `r_bath` — cutoff radius around the central spin for the bath;\n",
    "* `order` — maximum size of the cluster;\n",
    "* `r_dipole` — cutoff radius for the pairwise distance to consider two nuclear spins to be connected;\n",
    "* `magnetic_field` — applied magnetic field. Can also be provided during the simulation run;\n",
    "* `pulses` — number of pulses in CPMG sequence or the pulse sequence itself.\n",
    "\n",
    "Additional parameters, necessary for generalized CCE and gCCE:\n",
    "\n",
    "* `D` ZFS Tensor of central spin, or axial ZFS.\n",
    "* `E` if D is not a tensor, then transverse ZFS.\n",
    "\n",
    "For details see `help(Simulator)`."
   ]
  },
  {
   "cell_type": "markdown",
   "metadata": {},
   "source": [
    "First we setup a \"mock\" instance of `Simulator` to visualize the smaller part of the bath around the central spin."
   ]
  },
  {
   "cell_type": "code",
   "execution_count": 10,
   "metadata": {},
   "outputs": [],
   "source": [
    "# Setting the runner engine\n",
    "mock = pc.Simulator(spin=1, position=[0,0,0],\n",
    "                    bath=atoms, r_bath=20,\n",
    "                    r_dipole=6, order=3)"
   ]
  },
  {
   "cell_type": "markdown",
   "metadata": {},
   "source": [
    "During the initiallization, depending on the provided keyword arguments several methods are called:\n",
    "\n",
    "* `Simulator.read_bath` is called if keyword `bath` is provided. Can take several additional arguments:\n",
    "\n",
    "    * `r_bath` - cutoff distance from the qubit for the bath.\n",
    "    * `skiprows` - if `bath` is `.xyz` file, how many rows to skip when reading the file.\n",
    "    * `external_bath` - `BathArray` instance, which contains bath spins with pre defined hyperfines to be used.\n",
    "    * `hyperfine` - defines the way to compute hyperfine couplings. If is not given and `bath` doesn't contain any predefined hyperfines\n",
    "      (`bath['A'].any() == False`) assueme point dipole approximation.\n",
    "      Otherwise can be an instance of ``pc.Cube`` object, or callable with signature ``func(coord, gyro, central_gyro)``,\n",
    "      where coord is array of the bath spin coordinate, gyro is the gyromagnetic ratio of bath spin,\n",
    "      central_gyro is the gyromagnetic ratio of the central bath spin.\n",
    "    * `types` - instance of `SpinDict` or input to create one.\n",
    "    * `error_range` - maximum allowed distance between positions in `bath` and `external_bath` for two spins to be considered the same.\n",
    "    * `ext_r_bath` - cutoff distance from the qubit for the `external_bath`. \n",
    "      Useful if `external_bath` has very assymetric shape and user wants to keep the precision level of the hyperfine at different distances consistent.\n",
    "    * `imap` - instance of the `pc.InteractionMap` class, which contain tensor of bath spin interactions.\n",
    "      If not provided, interactions between bath spins is assumed to be the same as one of point dipoles.\n",
    "   \n",
    "  Produces `BathArray` object with hyperfine tensors to be used in the calculation.\n",
    "\n",
    "* `Simulator.generate_clusters` is called if `order` and `r_dipole` are provided.\n",
    "  produces `dict` object, which contains the indexes of the bath spins in the clusters\n",
    " "
   ]
  },
  {
   "cell_type": "markdown",
   "metadata": {},
   "source": [
    "We use `matplotlib` to visualize spin bath. The grey lines show connected pairs of nuclear spins, red dashed lines show clusters of three. You can try to increase `r_dipole`, `r_bath` parameters, or increase `order` and visuallize."
   ]
  },
  {
   "cell_type": "code",
   "execution_count": 11,
   "metadata": {},
   "outputs": [
    {
     "data": {
      "image/png": "[encoded data removed]",
      "text/plain": [
       "<Figure size 432x432 with 1 Axes>"
      ]
     },
     "metadata": {
      "needs_background": "light"
     },
     "output_type": "display_data"
    }
   ],
   "source": [
    "# add 3D axis\n",
    "fig = plt.figure(figsize=(6,6))\n",
    "ax = fig.add_subplot(projection='3d')\n",
    "\n",
    "# We want to visualize the smaller bath\n",
    "data = mock.bath\n",
    "\n",
    "# First plot the positions of the bath \n",
    "colors = np.abs(data.A[:,2,2]/data.A[:,2,2].max())\n",
    "ax.scatter3D(data.x, data.y, data.z, c=colors, cmap='viridis');\n",
    "# Plot all pairs of nuclear spins, which are contained\n",
    "# in the calc.clusters dictionary under they key 2\n",
    "for c in mock.clusters[2]:\n",
    "    ax.plot3D(data.x[c], data.y[c], data.z[c], color='grey')\n",
    "# Plot all triplets of nuclear spins, which are contained\n",
    "# in the calc.clusters dictionary under they key 3\n",
    "for c in mock.clusters[3]:\n",
    "    ax.plot3D(data.x[c], data.y[c], data.z[c], color='red', ls='--', lw=0.5)\n",
    "\n",
    "ax.set(xlabel='x', ylabel='y', zlabel='z');"
   ]
  },
  {
   "cell_type": "markdown",
   "metadata": {},
   "source": [
    "Now we setup `Simulator` object for actual simulation."
   ]
  },
  {
   "cell_type": "code",
   "execution_count": 12,
   "metadata": {
    "pycharm": {
     "name": "#%%\n"
    }
   },
   "outputs": [],
   "source": [
    "# Parameters of CCE calculations engine\n",
    "\n",
    "# Order of CCE aproximation\n",
    "order = 2\n",
    "# Bath cutoff radius\n",
    "r_bath = 40  # in A\n",
    "# Cluster cutoff radius\n",
    "r_dipole = 8  # in A\n",
    "# position of central spin\n",
    "position = [0, 0, 0]\n",
    "# Qubit levels (in Sz basis)\n",
    "alpha = [0, 0, 1]; beta = [0, 1, 0]\n",
    "# ZFS Parametters of NV center in diamond\n",
    "D = 2.88 * 1e6 # in kHz\n",
    "E = 0 # in kHz"
   ]
  },
  {
   "cell_type": "markdown",
   "metadata": {},
   "source": [
    "The code already knows the most isotopes, however user can provide their own by providing `types` keyword argument of `Simulator.read_bath` method. The way to initiallize `SpinType` objects is the same as in for `SpinDict` above."
   ]
  },
  {
   "cell_type": "code",
   "execution_count": 13,
   "metadata": {},
   "outputs": [],
   "source": [
    "# The code already knows most exsiting isotopes.\n",
    "#              Bath spin types\n",
    "#              name    spin    gyro       quadrupole (for s>1/2)\n",
    "spin_types = [('14N',  1,      1.9338,    20.44),\n",
    "              ('13C',  1 / 2,  6.72828),\n",
    "              ('29Si', 1 / 2, -5.3188),]"
   ]
  },
  {
   "cell_type": "markdown",
   "metadata": {},
   "source": [
    "### Setting the `Simulator` object\n",
    "All of the kwargs can be provided at the moment of creation. If all of the kwargs are provided, several methods of `Simulator` class are called:\n",
    "\n",
    "* `Simulator.read_bath`;\n",
    "* `Simulator.generate_clusters`.\n",
    "\n",
    "The details are available in the `Simulator` methods description."
   ]
  },
  {
   "cell_type": "code",
   "execution_count": 14,
   "metadata": {},
   "outputs": [],
   "source": [
    "# Setting the runner engine\n",
    "calc = pc.Simulator(spin=1, position=position,\n",
    "                    alpha=alpha, beta=beta,\n",
    "                    types=spin_types, D=D, E=E,\n",
    "                    bath=atoms, r_bath=r_bath,\n",
    "                    r_dipole=r_dipole, order=order)"
   ]
  },
  {
   "cell_type": "markdown",
   "metadata": {},
   "source": [
    "Taking advantage of subclassing `np.ndarray` we can change *in situ* the quadrupole tensor of Nitrogen nuclear spin."
   ]
  },
  {
   "cell_type": "code",
   "execution_count": 15,
   "metadata": {},
   "outputs": [],
   "source": [
    "nspin = calc.bath\n",
    "# Set model quadrupole tensor at N atom\n",
    "quad = np.asarray([[-2.5, 0, 0],\n",
    "                   [0, -2.5, 0],\n",
    "                   [0, 0,  5.0]]) * 1e3 * 2 * np.pi\n",
    "\n",
    "nspin['Q'][nspin['N'] == '14N'] = quad"
   ]
  },
  {
   "cell_type": "markdown",
   "metadata": {
    "pycharm": {
     "name": "#%% md\n"
    }
   },
   "source": [
    "### Compute coherence function with conventional CCE\n",
    "\n",
    "In conventional CCE method the Hamiltonian is projected on the qubit levels, and the coherence is computed from the overlap of evolution of the bath, entangled with two different qubit states.\n",
    "\n",
    "The conventional CCE requires one argument:\n",
    "\n",
    "* `timespace` — time points at which compute the coherence function.\n",
    "\n",
    "Additionally, one can provide the following arguments now, instead of in the process of initiallizing ``Simulator`` object:\n",
    "\n",
    "* `pulses` — number of pulses in CPMG sequence (0 - FID, 1 - HE etc., default 0).\n",
    "* `mangetic_field` — array of the magnetic field, default (0, 0, 0).\n",
    "\n",
    "For details see `help(calc.cce_coherence)`."
   ]
  },
  {
   "cell_type": "code",
   "execution_count": 16,
   "metadata": {},
   "outputs": [],
   "source": [
    "# Time points\n",
    "time_space = np.linspace(0, 2, 201)  # in ms\n",
    "# Number of pulses in CPMG seq (0 = FID, 1 = HE)\n",
    "N = 1\n",
    "# Mag. Field (Bx By Bz)\n",
    "B = np.array([0, 0, 500])  # in G\n",
    "\n",
    "l_conv = calc.compute(time_space, pulses=N, magnetic_field=B, \n",
    "                      method='cce', quantity='coherence', as_delay=False)"
   ]
  },
  {
   "cell_type": "code",
   "execution_count": 17,
   "metadata": {},
   "outputs": [
    {
     "name": "stdout",
     "output_type": "stream",
     "text": [
      "1.44 s ± 7.45 ms per loop (mean ± std. dev. of 7 runs, 1 loop each)\n"
     ]
    }
   ],
   "source": [
    "%%timeit\n",
    "calc.compute(time_space, pulses=N, magnetic_field=B,\n",
    "             method='cce', quantity='coherence', as_delay=False)"
   ]
  },
  {
   "cell_type": "markdown",
   "metadata": {},
   "source": [
    "### Generalized CCE (gCCE)\n",
    "\n",
    "In contrast, in generalized CCE each cluster includes the central spin explicitly.\n",
    "\n",
    "Generalized CCE can take `pulses` agrument as an actual pulse sequence with a list of tuples. In each tuple first entry axis, second entry - rotational angle. Otherwise number is also accepted\n",
    "\n",
    "For details see `help(calc.generalized_cce_dm)`."
   ]
  },
  {
   "cell_type": "code",
   "execution_count": 18,
   "metadata": {},
   "outputs": [],
   "source": [
    "# Hahn-echo pulse sequence\n",
    "pulse_sequence = [('x', np.pi)]\n",
    "\n",
    "# Calculate coherence function\n",
    "l_generatilze = calc.compute(time_space, magnetic_field=B,\n",
    "                             pulses=pulse_sequence, mean_field=False,\n",
    "                             method='gcce', quantity='coherence')"
   ]
  },
  {
   "cell_type": "code",
   "execution_count": 19,
   "metadata": {},
   "outputs": [
    {
     "name": "stdout",
     "output_type": "stream",
     "text": [
      "4.15 s ± 14.5 ms per loop (mean ± std. dev. of 7 runs, 1 loop each)\n"
     ]
    }
   ],
   "source": [
    "%%timeit\n",
    "calc.compute(time_space, magnetic_field=B,\n",
    "             pulses=pulse_sequence, D=D, E=E,\n",
    "             method='gcce', mean_field=False,\n",
    "             quantity='coherence')"
   ]
  },
  {
   "cell_type": "markdown",
   "metadata": {
    "pycharm": {
     "name": "#%% md\n"
    }
   },
   "source": [
    "### gCCE with random sampling of bath states\n",
    "\n",
    "This approach conducts generalized CCE calculations for set of random bath states. Can be turn on by by setting keyword argument `mean_field` to `True`. Compared to generalized CCE, requires one additional argument `nbstates`. Recommended number of bath states is above 100, but the convergence should be checked for each system. Note, that this computation is roughly `nbstates` times longer than generalized CCE, as it computes everything `nbstates` times.\n",
    "\n",
    "For details see `help(calc.gcce_dm)`."
   ]
  },
  {
   "cell_type": "code",
   "execution_count": null,
   "metadata": {},
   "outputs": [],
   "source": [
    "# Number of random bath states to sample over\n",
    "n_bath_states = 30\n",
    "\n",
    "# Calculate coherence function\n",
    "l_gcce = calc.compute(time_space, magnetic_field=B,\n",
    "                      pulses=pulse_sequence, mean_field=True,\n",
    "                      nbstates=n_bath_states,\n",
    "                      method='gcce', quantity='coherence', seed=seed)"
   ]
  },
  {
   "cell_type": "code",
   "execution_count": null,
   "metadata": {},
   "outputs": [],
   "source": [
    "%%timeit\n",
    "n_bath_states = 10\n",
    "calc.compute(time_space, magnetic_field=B,\n",
    "             pulses=pulse_sequence, mean_field=True,\n",
    "             nbstates=n_bath_states,\n",
    "             method='gcce', quantity='coherence', seed=seed)"
   ]
  },
  {
   "cell_type": "markdown",
   "metadata": {
    "pycharm": {
     "name": "#%% md\n"
    }
   },
   "source": [
    "Look at all and check that they produce similar results. Note gCCE deviates from other results as number of states is not enough to converge."
   ]
  },
  {
   "cell_type": "code",
   "execution_count": null,
   "metadata": {},
   "outputs": [],
   "source": [
    "plt.plot(time_space, l_conv.real,\n",
    "         label='conventional CCE')\n",
    "plt.plot(time_space, l_generatilze.real,\n",
    "         label='generalized CCE', ls='--')\n",
    "plt.plot(time_space, l_gcce.real,\n",
    "         label='gCCE with bath sampling', ls='', marker='.')\n",
    "\n",
    "plt.legend()\n",
    "plt.xlabel('Time (ms)')\n",
    "plt.ylabel('Coherence')"
   ]
  },
  {
   "cell_type": "markdown",
   "metadata": {},
   "source": [
    "### Convergence parameters\n",
    "Having confirmed that all methods produce the same results, we check convergence of conventional CCE with respect to `order`, `r_bath`, `r_dipole` parameters of the `Simulator` object.\n",
    "\n",
    "First, define all of the parameters."
   ]
  },
  {
   "cell_type": "code",
   "execution_count": null,
   "metadata": {},
   "outputs": [],
   "source": [
    "parameters = dict(\n",
    "    order=2, # CCE order\n",
    "    r_bath=40,  # Size of the bath in A\n",
    "    r_dipole=8,  # Cutoff of pairwise clusters in A\n",
    "    position=[0, 0, 0], # Position of central Spin\n",
    "    alpha=[0, 0, 1],\n",
    "    beta=[0, 1, 0],\n",
    "    pulses = 1, # N pulses in CPMG sequence\n",
    "    magnetic_field=[0,0,500]\n",
    ") # Qubit levels)\n",
    "\n",
    "time_space = np.linspace(0, 2, 201)  # Time points in ms"
   ]
  },
  {
   "cell_type": "markdown",
   "metadata": {},
   "source": [
    "We can define a little helper function to streamline the process. Note that resetting the parameters automatically recomputes properties of the bath."
   ]
  },
  {
   "cell_type": "code",
   "execution_count": null,
   "metadata": {},
   "outputs": [],
   "source": [
    "def runner(variable, values):\n",
    "    invalue = parameters[variable]\n",
    "    calc = pc.Simulator(spin=1, bath=atoms, **parameters)\n",
    "    ls = []\n",
    "\n",
    "    for v in values:\n",
    "        setattr(calc, variable, v)\n",
    "        l = calc.compute(time_space, method='cce',\n",
    "                         quantity='coherence')\n",
    "\n",
    "        ls.append(l.real)\n",
    "\n",
    "    parameters[variable] = invalue\n",
    "    ls = pd.DataFrame(ls, columns=time_space, index=values).T\n",
    "    return ls"
   ]
  },
  {
   "cell_type": "markdown",
   "metadata": {},
   "source": [
    "Now we can compute the coherence function at different values of the parameters:"
   ]
  },
  {
   "cell_type": "code",
   "execution_count": null,
   "metadata": {},
   "outputs": [],
   "source": [
    "orders = runner('order', [1, 2, 3, 4])\n",
    "rbs = runner('r_bath', [20, 30, 40, 50, 60])\n",
    "rds = runner('r_dipole', [4, 6, 8, 10])"
   ]
  },
  {
   "cell_type": "markdown",
   "metadata": {},
   "source": [
    "We can visualize the convergence of coherence function with respect to different parameters:"
   ]
  },
  {
   "cell_type": "code",
   "execution_count": null,
   "metadata": {},
   "outputs": [],
   "source": [
    "fig, axes = plt.subplots(1, 3, figsize=(12, 3))\n",
    "orders.plot(ax=axes[0], title='order')\n",
    "rbs.plot(ax=axes[1], title='r_bath')\n",
    "rds.plot(ax=axes[2], title='r_dipole')\n",
    "for ax in axes:\n",
    "    ax.set(xlabel='Time (ms)', ylabel='Coherence')\n",
    "fig.tight_layout()"
   ]
  }
 ],
 "metadata": {
  "kernelspec": {
   "display_name": "Python 3",
   "language": "python",
   "name": "python3"
  },
  "language_info": {
   "codemirror_mode": {
    "name": "ipython",
    "version": 3
   },
   "file_extension": ".py",
   "mimetype": "text/x-python",
   "name": "python",
   "nbconvert_exporter": "python",
   "pygments_lexer": "ipython3",
   "version": "3.8.3"
  },
  "pycharm": {
   "stem_cell": {
    "cell_type": "raw",
    "metadata": {
     "collapsed": false
    },
    "source": []
   }
  }
 },
 "nbformat": 4,
 "nbformat_minor": 4
}
