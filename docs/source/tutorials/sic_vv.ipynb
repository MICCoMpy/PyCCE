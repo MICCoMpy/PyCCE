{
 "cells": [
  {
   "cell_type": "markdown",
   "metadata": {
    "pycharm": {
     "name": "#%% md\n"
    }
   },
   "source": [
    "# VV in SiC\n",
    "\n",
    "An example of computing Free Induction Decay (FID) and Hahn-echo (HE) with hyperfine couplings from GIPAW for axial and basal divacancies."
   ]
  },
  {
   "cell_type": "code",
   "execution_count": 1,
   "metadata": {},
   "outputs": [],
   "source": [
    "import numpy as np\n",
    "import matplotlib.pyplot as plt\n",
    "import sys\n",
    "import ase\n",
    "import pandas as pd\n",
    "import warnings\n",
    "\n",
    "sys.path.append('/home/onizhuk/midway/codes_development/pyCCE')\n",
    "import pycce as pc\n",
    "\n",
    "np.set_printoptions(suppress=True, precision=5)\n",
    "warnings.simplefilter(\"ignore\")\n",
    "\n",
    "seed = 8805"
   ]
  },
  {
   "cell_type": "markdown",
   "metadata": {},
   "source": [
    "## Axial kk-VV\n",
    "First we compute FID and HE for axial divacancy."
   ]
  },
  {
   "cell_type": "markdown",
   "metadata": {},
   "source": [
    "### Build BathCell from the ground\n",
    "\n",
    "One can set up `BathCell` instance providing the parameters of unit cell or proviing `cell` argument as 3x3 tensor, where each column define a, b, c unit cell vectors in cartesian coordinates.\n",
    "\n",
    "In this tutorial we use the second approach."
   ]
  },
  {
   "cell_type": "code",
   "execution_count": 2,
   "metadata": {},
   "outputs": [],
   "source": [
    "# Set up unit cell with (a, b, c, alpha, beta, gamma)\n",
    "sic = pc.BathCell(3.073, 3.073, 10.053, 90, 90, 120, 'deg')\n",
    "# z axis in cell coordinates\n",
    "sic.zdir = [0, 0, 1]"
   ]
  },
  {
   "cell_type": "markdown",
   "metadata": {},
   "source": [
    "Next, user has to define positions of atoms in the unit cell.\n",
    "It is done with `BathCell.add_atoms` function. It takes unlimited number of arguments, each argument is a tuple. First element of the tuple is the name of the atom, second - list of xyz coordinates either in cell units (if keyword `type='cell'`, default value) or in Angstrom (if keyword `type='angstrom'`). Returns `BathCell.atoms` dictionary, which contains list of coordinates for each type of elements."
   ]
  },
  {
   "cell_type": "code",
   "execution_count": 3,
   "metadata": {},
   "outputs": [],
   "source": [
    "# position of atoms\n",
    "sic.add_atoms(('Si', [0.00000000, 0.00000000, 0.1880]),\n",
    "              ('Si', [0.00000000, 0.00000000, 0.6880]),\n",
    "              ('Si', [0.33333333, 0.66666667, 0.4380]),\n",
    "              ('Si', [0.66666667, 0.33333333, 0.9380]),\n",
    "              ('C', [0.00000000, 0.00000000, 0.0000]),\n",
    "              ('C', [0.00000000, 0.00000000, 0.5000]),\n",
    "              ('C', [0.33333333, 0.66666667, 0.2500]),\n",
    "              ('C', [0.66666667, 0.33333333, 0.7500]));"
   ]
  },
  {
   "cell_type": "markdown",
   "metadata": {},
   "source": [
    "Two types of isotopes present in SiC: $^{29}$Si and $^{13}$C. We add this information with `BathCell.add_isotopes` function. The code knows most of the concentrations, so this step is actually unnecessary. If no isotopes is provided, the natural concentration of common magnetic isotopes is assumed."
   ]
  },
  {
   "cell_type": "code",
   "execution_count": 4,
   "metadata": {},
   "outputs": [],
   "source": [
    "# isotopes \n",
    "sic.add_isotopes(('29Si', 0.047), ('13C', 0.011))\n",
    "\n",
    "# defect position in cell units\n",
    "vsi_cell = [0, 0, 0.1880]\n",
    "vc_cell = [0, 0, 0]\n",
    "\n",
    "# Generate bath spin positions\n",
    "atoms = sic.gen_supercell(200, remove=[('Si', vsi_cell),\n",
    "                                       ('C', vc_cell)],\n",
    "                          seed=seed)"
   ]
  },
  {
   "cell_type": "markdown",
   "metadata": {
    "pycharm": {
     "name": "#%% md\n"
    }
   },
   "source": [
    "### Read Quantum Espresso output\n",
    "\n",
    "For reading hyperfine couplings there is a helper function `read_qe` in `pycce.io` module. `read_qe` takes from 1 to 3 positional arguments:\n",
    "\n",
    "* `pwfile` name of the pw input/output file;\n",
    "* `hyperfine` name of the gipaw output file containing hyperfine couplings;\n",
    "* `efg` name of the gipaw output file containing electric field tensor calculations.\n",
    "\n",
    "\n",
    "In the process, `read_qe` will read the cell matrix in pw file and apply it to the coordinates is necessary. However, usually we still need to rotate and translate the Quantum Espresso supercell to allign it with our `BathArray`. For that we can provide additional keywords arguments `center` and `rotation_matrix`. `center` is the position of (0, 0, 0) point in coordinates of pw file, and `rotation_matrix` is rotation matrix which aligns z-direction of the GIPAW output. This matrix, acting on the (0, 0, 1) in Cartesian coordinates of GIPAW output should produce (a, b, c) vector, alligned with zdirection of the BathCell. Keyword argument `rm_style` shows whether `rotation_matrix` contains coordinates of new basis set as rows (`'row'`, common in physics) or columns (`'col'`, common in math)."
   ]
  },
  {
   "cell_type": "code",
   "execution_count": 5,
   "metadata": {},
   "outputs": [],
   "source": [
    "# Prepare rotation matrix to alling with z axis of generated atoms\n",
    "# This matrix, acting on the [0, 0, 1] in Cartesian coordinates of GIPAW output\n",
    "# Should produce [a, b, c] vector, alligned with zdirection of the BathCell\n",
    "M = np.array([[0, 0, -1],\n",
    "              [0, -1, 0],\n",
    "              [-1, 0, 0]])\n",
    "\n",
    "# Position of (0,0,0) point in cell coordinates\n",
    "center = [0.6, 0.5, 0.5]\n",
    "# Read GIPAW results\n",
    "exatoms = pc.read_qe('axial/pw.in',\n",
    "                     hyperfine='axial/gipaw.out',\n",
    "                     center=center, rotation_matrix=M,\n",
    "                     rm_style='col',\n",
    "                     isotopes={'C':'13C', 'Si':'29Si'})"
   ]
  },
  {
   "cell_type": "markdown",
   "metadata": {},
   "source": [
    "`pc.read_qe` produces instance of `BathArray`, with names of bath spins as the most common isotopes of the following elements (if keyword `isotopes` set to `None`) or from the mapping provided by the `isotopes` argument. "
   ]
  },
  {
   "cell_type": "markdown",
   "metadata": {},
   "source": [
    "### Set up CCE Simulator\n",
    "In this example we set up bare `Simulator` and add properties of the spin bath later."
   ]
  },
  {
   "cell_type": "code",
   "execution_count": 6,
   "metadata": {},
   "outputs": [],
   "source": [
    "# Setting up CCE calculations\n",
    "pos = sic.to_cartesian(vsi_cell)\n",
    "CCE_order = 2\n",
    "r_bath = 40\n",
    "r_dipole = 8\n",
    "B = np.array([0, 0, 500])\n",
    "\n",
    "calc = pc.Simulator(1, pos, alpha=[0, 0, 1], beta=[0, 1, 0], magnetic_field=B)"
   ]
  },
  {
   "cell_type": "markdown",
   "metadata": {},
   "source": [
    "Function `Simulator.read_bath` can be called explicitly to initiallize spin bath.\n",
    "Additional keyword argument `external_bath` takes instance of `BathArray` with hyperfine couplings read from Quantum Espresso. The program then finds the spins with the same name at the same positions (within the range defined by `error_range` keyword argument) in the total bath and sets their hyperfine couplings.\n",
    "\n",
    "Finally, we call `Simulator.generate_clusters` to find the bath spin clusters in the provided bath."
   ]
  },
  {
   "cell_type": "code",
   "execution_count": 7,
   "metadata": {},
   "outputs": [],
   "source": [
    "calc.read_bath(atoms, r_bath, external_bath=exatoms);\n",
    "calc.generate_clusters(CCE_order, r_dipole=r_dipole);"
   ]
  },
  {
   "cell_type": "markdown",
   "metadata": {},
   "source": [
    "### FID with DFT hyperfines\n",
    "\n",
    "We provide ``pulses`` argument directly to the compute function instead of during initiallization of the ``Simulator`` object."
   ]
  },
  {
   "cell_type": "code",
   "execution_count": 8,
   "metadata": {},
   "outputs": [],
   "source": [
    "time_space = np.linspace(0, 0.01, 501)\n",
    "N = 0\n",
    "\n",
    "ldft = calc.cce_coherence(time_space, pulses=N, as_delay=False)"
   ]
  },
  {
   "cell_type": "markdown",
   "metadata": {},
   "source": [
    "### FID with hyperfines from point dipole approximation"
   ]
  },
  {
   "cell_type": "code",
   "execution_count": 9,
   "metadata": {},
   "outputs": [],
   "source": [
    "pdcalc = pc.Simulator(1, pos, alpha=[0, 0, 1], beta=[0, 1, 0], magnetic_field=B,\n",
    "                      bath=atoms, r_bath=r_bath, order=CCE_order, r_dipole=r_dipole)\n",
    "lpd = pdcalc.cce_coherence(time_space, pulses=N, as_delay=False)"
   ]
  },
  {
   "cell_type": "markdown",
   "metadata": {},
   "source": [
    "Plot the results and and see that the predictions are significantly different."
   ]
  },
  {
   "cell_type": "code",
   "execution_count": 10,
   "metadata": {},
   "outputs": [
    {
     "data": {
      "text/plain": [
       "Text(0, 0.5, 'L')"
      ]
     },
     "execution_count": 10,
     "metadata": {},
     "output_type": "execute_result"
    },
    {
     "data": {
      "image/png": "[encoded data removed]",
      "text/plain": [
       "<Figure size 432x288 with 1 Axes>"
      ]
     },
     "metadata": {
      "needs_background": "light"
     },
     "output_type": "display_data"
    }
   ],
   "source": [
    "plt.plot(time_space, lpd.real, label='point dipole')\n",
    "plt.plot(time_space, ldft.real, label='DFT')\n",
    "plt.legend()\n",
    "plt.xlabel('Time (ms)')\n",
    "plt.ylabel('L')"
   ]
  },
  {
   "cell_type": "markdown",
   "metadata": {},
   "source": [
    "### Hahn-echo comparison\n",
    "Now we compare the predictions for Hahn-echo signal with different hyperfines."
   ]
  },
  {
   "cell_type": "code",
   "execution_count": 11,
   "metadata": {},
   "outputs": [],
   "source": [
    "he_time = np.linspace(0, 2.5, 501)\n",
    "B = np.array([0, 0, 500])\n",
    "N = 1\n",
    "\n",
    "he_ldft = calc.cce_coherence(he_time, magnetic_field=B, pulses=N, as_delay=False)\n",
    "he_lpd = pdcalc.cce_coherence(he_time, magnetic_field=B, pulses=N, as_delay=False)"
   ]
  },
  {
   "cell_type": "markdown",
   "metadata": {},
   "source": [
    "Plot the results and compare. We observe that electron spin echo modulations differ significantly, while the observed decay is about the same."
   ]
  },
  {
   "cell_type": "code",
   "execution_count": 12,
   "metadata": {},
   "outputs": [
    {
     "data": {
      "text/plain": [
       "Text(0, 0.5, 'L')"
      ]
     },
     "execution_count": 12,
     "metadata": {},
     "output_type": "execute_result"
    },
    {
     "data": {
      "image/png": "[encoded data removed]",
      "text/plain": [
       "<Figure size 432x288 with 1 Axes>"
      ]
     },
     "metadata": {
      "needs_background": "light"
     },
     "output_type": "display_data"
    }
   ],
   "source": [
    "plt.plot(he_time, he_ldft.real, label='DFT')\n",
    "plt.plot(he_time, he_lpd.real, label='point dipole')\n",
    "\n",
    "plt.legend()\n",
    "plt.xlabel('Time (ms)')\n",
    "plt.ylabel('L')"
   ]
  },
  {
   "cell_type": "markdown",
   "metadata": {},
   "source": [
    "## Basal kh-VV in SiC\n",
    "\n",
    "Basal divacancy's Hamiltonian includes both D and E terms, which allows for mixing between +1 and -1 spin levels at zero field. \n",
    "\n",
    "Thus, either the generalized CCE should be used, or additional perturbational Hamiltonian terms are to be added. Here we involve the generalized CCE framework.\n",
    "\n",
    "First, prepare rotation matrix for DFT results. The same supercell was used to compute hyperfine couplings, however z-axis of the electron spin qubit is aligned with Si-C bond, therefore we will need to rotate DFT supercell accordingly."
   ]
  },
  {
   "cell_type": "code",
   "execution_count": 13,
   "metadata": {},
   "outputs": [],
   "source": [
    "# Coordinates of vacancies in cell coordinates (note that Vsi is not located in the first unitcell)\n",
    "vsi_cell = -np.array([1 / 3, 2 / 3, 0.0620])\n",
    "vc_cell = np.array([0, 0, 0])\n",
    "\n",
    "sic.zdir = [0, 0, 1]\n",
    "\n",
    "# Rotation matrix for DFT supercell\n",
    "R = pc.rotmatrix([0, 0, 1], sic.to_cartesian(vsi_cell - vc_cell))"
   ]
  },
  {
   "cell_type": "markdown",
   "metadata": {},
   "source": [
    "Total spin bath can be initiallized by simply setting z direction of the `BathCell` object."
   ]
  },
  {
   "cell_type": "code",
   "execution_count": 14,
   "metadata": {},
   "outputs": [],
   "source": [
    "sic.zdir = vsi_cell - vc_cell\n",
    "\n",
    "# Generate bath spin positions\n",
    "sic.add_isotopes(('29Si', 0.047), ('13C', 0.011))\n",
    "atoms = sic.gen_supercell(200, remove=[('Si', vsi_cell),\n",
    "                                       ('C', vc_cell)],\n",
    "                          seed=seed)"
   ]
  },
  {
   "cell_type": "markdown",
   "metadata": {},
   "source": [
    "Read DFT results with `read_qe` function. To rotate in the correct frame we need to apply both changes of basis consequently"
   ]
  },
  {
   "cell_type": "code",
   "execution_count": 15,
   "metadata": {},
   "outputs": [],
   "source": [
    "M = np.array([[0, 0, -1],\n",
    "              [0, -1, 0],\n",
    "              [-1, 0, 0]])\n",
    "\n",
    "# Position of (0,0,0) point in cell coordinates\n",
    "center = np.array([0.59401, 0.50000, 0.50000])\n",
    "\n",
    "# Read GIPAW results\n",
    "exatoms = pc.read_qe('basal/pw.in',\n",
    "                     hyperfine='basal/gipaw.out',\n",
    "                     center=center, rotation_matrix=(M.T @ R),\n",
    "                     rm_style='col',\n",
    "                     isotopes={'C':'13C', 'Si':'29Si'})"
   ]
  },
  {
   "cell_type": "markdown",
   "metadata": {},
   "source": [
    "To check whether our rotations produced correct results we can find the indexes of the `BathArray` and DFT output with `pc.same_bath_indexes` function. It returns a tuple, containing the indexes of elements in the two `BathArray` instances with the same position and name. First element of the tuple - indexes of first argument, second - of the second. For that we generate supecell with `BathCell` class, containing 100% isotopes, and count the number of found indexes - iut should be equal to the size of DFT supercell."
   ]
  },
  {
   "cell_type": "code",
   "execution_count": 16,
   "metadata": {},
   "outputs": [
    {
     "name": "stdout",
     "output_type": "stream",
     "text": [
      "There are 1438 same elements. Size of the DFT supercell is 1438\n"
     ]
    }
   ],
   "source": [
    "# isotopes \n",
    "sic.add_isotopes(('29Si', 1), ('13C', 1))\n",
    "allcell = sic.gen_supercell(50, remove=[('Si', vsi_cell),\n",
    "                                       ('C', vc_cell)],\n",
    "                            seed=seed)\n",
    "\n",
    "indexes, ext_indexes = pc.same_bath_indexes(allcell, exatoms, 0.2, True)\n",
    "print(f\"There are {indexes.size} same elements.\"\n",
    "      f\" Size of the DFT supercell is {exatoms.size}\")"
   ]
  },
  {
   "cell_type": "markdown",
   "metadata": {},
   "source": [
    "### Setting up calculations\n",
    "Now we can safely setup calculations. We will compare results with or without bath state sampling."
   ]
  },
  {
   "cell_type": "code",
   "execution_count": 17,
   "metadata": {},
   "outputs": [],
   "source": [
    "D = 1.334 * 1e6\n",
    "E = 0.0184 * 1e6\n",
    "magnetic_field = 0\n",
    "\n",
    "calc = pc.Simulator(1, pos, bath=atoms, external_bath=exatoms, D=D, E=E,\n",
    "                    magnetic_field=magnetic_field,\n",
    "                    r_bath=r_bath, order=CCE_order, r_dipole=r_dipole)"
   ]
  },
  {
   "cell_type": "markdown",
   "metadata": {},
   "source": [
    "The code automatically picks up the two lowest eigenstates of the central spin hamiltonian, defined by\n",
    "``Simulator.magnetic_field``, ``Simulator.gyro``, ``Simulator.zfs``, as qubit states."
   ]
  },
  {
   "cell_type": "code",
   "execution_count": 18,
   "metadata": {},
   "outputs": [
    {
     "name": "stdout",
     "output_type": "stream",
     "text": [
      "Simulator for spin-1.\n",
      "alpha: 0\n",
      "beta: 1\n",
      "gyromagnetic ratio: -17608.59705 kHz * rad / G\n",
      "zero field splitting:\n",
      "array([[-426266.66667,       0.     ,       0.     ],\n",
      "       [      0.     , -463066.66667,       0.     ],\n",
      "       [      0.     ,       0.     ,  889333.33333]])\n",
      "magnetic field:\n",
      "array([0., 0., 0.])\n",
      "\n",
      "Parameters of cluster expansion:\n",
      "r_bath: 40\n",
      "r_dipole: 8\n",
      "order: 2\n",
      "\n",
      "Bath consists of 761 spins.\n",
      "\n",
      "Clusters include:\n",
      "761  clusters of order 1.\n",
      "1870  clusters of order 2.\n",
      "\n"
     ]
    }
   ],
   "source": [
    "print(calc)"
   ]
  },
  {
   "cell_type": "markdown",
   "metadata": {},
   "source": [
    "We can use `Simulator.eigenstates` function to generate qubit states"
   ]
  },
  {
   "cell_type": "code",
   "execution_count": 19,
   "metadata": {},
   "outputs": [
    {
     "name": "stdout",
     "output_type": "stream",
     "text": [
      "0 state: [-0.70711+0.j  0.     +0.j -0.70711+0.j]; 1 state: [ 0.+0.j -1.+0.j  0.+0.j]\n"
     ]
    }
   ],
   "source": [
    "calc.eigenstates(D=D, E=E, alpha=-1, beta=0)\n",
    "print(f'0 state: {calc.alpha}; 1 state: {calc.beta}')"
   ]
  },
  {
   "cell_type": "markdown",
   "metadata": {},
   "source": [
    "### FID Decay\n",
    "Now, use generalized CCE to compute FID decay of the coherence function at different CCE orders"
   ]
  },
  {
   "cell_type": "code",
   "execution_count": 20,
   "metadata": {},
   "outputs": [],
   "source": [
    "N = 0 # Number of pulses\n",
    "time_space = np.linspace(0, 1, 101) # Time points at which to compute\n",
    "\n",
    "orders = [1, 2, 3]\n",
    "lgen = []\n",
    "\n",
    "r_bath = 30\n",
    "r_dipole = 8\n",
    "\n",
    "calc = pc.Simulator(1, pos, bath=atoms, external_bath=exatoms,\n",
    "                    D=D, E=E, pulses=N, alpha=-1, beta=0,\n",
    "                    r_bath=r_bath, r_dipole=r_dipole)"
   ]
  },
  {
   "cell_type": "code",
   "execution_count": 21,
   "metadata": {},
   "outputs": [],
   "source": [
    "for o in orders:\n",
    "    calc.generate_clusters(o)\n",
    "    l = calc.compute(time_space, method='gcce', mean_field=False,\n",
    "                     quantity='coherence', as_delay=False)\n",
    "\n",
    "    lgen.append(np.abs(l))\n",
    "\n",
    "lgen = pd.DataFrame(lgen, columns=time_space, index=orders).T"
   ]
  },
  {
   "cell_type": "markdown",
   "metadata": {},
   "source": [
    "We see that the results do not converge, but rather start to diverge. Bath sampling (setting `mean_field=True`) will help with that."
   ]
  },
  {
   "cell_type": "code",
   "execution_count": 22,
   "metadata": {},
   "outputs": [
    {
     "data": {
      "text/plain": [
       "(-0.1, 1.1)"
      ]
     },
     "execution_count": 22,
     "metadata": {},
     "output_type": "execute_result"
    },
    {
     "data": {
      "image/png": "[encoded data removed]",
      "text/plain": [
       "<Figure size 432x288 with 1 Axes>"
      ]
     },
     "metadata": {
      "needs_background": "light"
     },
     "output_type": "display_data"
    }
   ],
   "source": [
    "lgen.plot()\n",
    "plt.xlabel('Time (ms)')\n",
    "plt.ylabel('L')\n",
    "plt.ylim(-0.1,1.1)"
   ]
  },
  {
   "cell_type": "markdown",
   "metadata": {},
   "source": [
    "Note, that this approach is nbstates times more expensive than gCCE, therefore the following calculation will take a couple of minutes."
   ]
  },
  {
   "cell_type": "code",
   "execution_count": 23,
   "metadata": {},
   "outputs": [],
   "source": [
    "orders = [1, 2, 3]\n",
    "lgcce = []\n",
    "\n",
    "r_bath = 30\n",
    "r_dipole = 6\n",
    "\n",
    "for o in orders:\n",
    "    calc.generate_clusters(o)\n",
    "\n",
    "    l = calc.compute(time_space, nbstates=30, seed=seed,\n",
    "                     mean_field=True, method='gcce',\n",
    "                     quantity='coherence', as_delay=False)\n",
    "\n",
    "    lgcce.append(np.abs(l))\n",
    "\n",
    "lgcce = pd.DataFrame(lgcce, columns=time_space, index=orders).T"
   ]
  },
  {
   "cell_type": "markdown",
   "metadata": {},
   "source": [
    "### Compare the two results\n",
    "The gCCE results are converged at 1st order. Note that we used only a small number of bath states (30), thus the calculations are not converged with respect to number of bath states. Calculations with higher number of bath states (~100) will produce correct results."
   ]
  },
  {
   "cell_type": "code",
   "execution_count": 24,
   "metadata": {},
   "outputs": [
    {
     "data": {
      "text/plain": [
       "(-0.1, 1.1)"
      ]
     },
     "execution_count": 24,
     "metadata": {},
     "output_type": "execute_result"
    },
    {
     "data": {
      "image/png": "[encoded data removed]",
      "text/plain": [
       "<Figure size 432x288 with 1 Axes>"
      ]
     },
     "metadata": {
      "needs_background": "light"
     },
     "output_type": "display_data"
    }
   ],
   "source": [
    "plt.plot(lgen, color='black', ls=':')\n",
    "plt.plot(lgcce)\n",
    "\n",
    "plt.xlabel('Time (ms)')\n",
    "plt.ylabel('L')\n",
    "plt.ylim(-0.1,1.1)"
   ]
  },
  {
   "cell_type": "markdown",
   "metadata": {},
   "source": [
    "### Hahn-echo decay\n",
    "\n",
    "Using similar procedure, compute the Hahn-echo decay."
   ]
  },
  {
   "cell_type": "code",
   "execution_count": 25,
   "metadata": {},
   "outputs": [],
   "source": [
    "r_bath = 40\n",
    "r_dipole = 8\n",
    "order = 2\n",
    "N = 1 # Number of pulses\n",
    "\n",
    "calc = pc.Simulator(1, pos, bath=atoms, external_bath=exatoms,\n",
    "                    pulses=N, D=D, E=E, alpha=-1, beta=0,\n",
    "                    r_bath=r_bath, order=order, r_dipole=r_dipole)"
   ]
  },
  {
   "cell_type": "code",
   "execution_count": 26,
   "metadata": {},
   "outputs": [],
   "source": [
    "ts = np.linspace(0, 4, 101) # time points (in ms)"
   ]
  },
  {
   "cell_type": "code",
   "execution_count": 27,
   "metadata": {},
   "outputs": [],
   "source": [
    "helgen = calc.compute(ts, mean_field=False,\n",
    "                      method='gcce', quantity='coherence')"
   ]
  },
  {
   "cell_type": "markdown",
   "metadata": {},
   "source": [
    "Note the number of nbstates leads to significantly increased time of the calculation. The interface to mpi implementation is provided with keyword `parallel_states`. However it requires `mpi4py` installed and a run on several cores."
   ]
  },
  {
   "cell_type": "code",
   "execution_count": 28,
   "metadata": {},
   "outputs": [],
   "source": [
    "helgcce = calc.compute(time_space, nbstates=30, seed=seed,\n",
    "                       mean_field=True,\n",
    "                       method='gcce', quantity='coherence')"
   ]
  },
  {
   "cell_type": "code",
   "execution_count": 29,
   "metadata": {},
   "outputs": [
    {
     "data": {
      "text/plain": [
       "Text(0, 0.5, 'L')"
      ]
     },
     "execution_count": 29,
     "metadata": {},
     "output_type": "execute_result"
    },
    {
     "data": {
      "image/png": "[encoded data removed]",
      "text/plain": [
       "<Figure size 432x288 with 1 Axes>"
      ]
     },
     "metadata": {
      "needs_background": "light"
     },
     "output_type": "display_data"
    }
   ],
   "source": [
    "plt.plot(ts, helgcce, label='gCCE with mean field')\n",
    "plt.plot(ts, helgen, label='gCCE')\n",
    "\n",
    "plt.legend()\n",
    "plt.xlabel('Time (ms)')\n",
    "plt.ylabel('L')"
   ]
  }
 ],
 "metadata": {
  "kernelspec": {
   "display_name": "Python 3 (ipykernel)",
   "language": "python",
   "name": "python3"
  },
  "language_info": {
   "codemirror_mode": {
    "name": "ipython",
    "version": 3
   },
   "file_extension": ".py",
   "mimetype": "text/x-python",
   "name": "python",
   "nbconvert_exporter": "python",
   "pygments_lexer": "ipython3",
   "version": "3.8.3"
  },
  "pycharm": {
   "stem_cell": {
    "cell_type": "raw",
    "metadata": {
     "collapsed": false
    },
    "source": []
   }
  }
 },
 "nbformat": 4,
 "nbformat_minor": 4
}
