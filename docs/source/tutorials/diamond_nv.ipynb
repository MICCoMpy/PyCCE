{
 "cells": [
  {
   "cell_type": "markdown",
   "metadata": {
    "pycharm": {
     "name": "#%% md\n"
    }
   },
   "source": [
    "# NV Center in Diamond\n",
    "An example of computing Hahn-echo coherence function using all three available methods: \n",
    "\n",
    "- Conventional CCE\n",
    "- Generalized CCE (gCCE)\n",
    "- gCCE with Monte-Carlo bath sampling\n",
    "\n",
    "And the examples of converging the calculational parameters"
   ]
  },
  {
   "cell_type": "code",
   "execution_count": 1,
   "metadata": {
    "pycharm": {
     "name": "#%%\n"
    }
   },
   "outputs": [],
   "source": [
    "import numpy as np\n",
    "import matplotlib.pyplot as plt\n",
    "import pandas as pd\n",
    "\n",
    "# Install a pip package in the current Jupyter kernel\n",
    "import sys\n",
    "sys.path.append('/home/onizhuk/midway/codes_development/pyCCE')\n",
    "import pycce as pc\n",
    "# !{sys.executable} -m pip install --user ase\n",
    "# !{sys.executable} -m pip install --user numpy --upgrade\n",
    "\n",
    "import ase\n",
    "\n",
    "seed = 8805\n",
    "np.random.seed(seed)\n",
    "np.set_printoptions(suppress=True, precision=5)"
   ]
  },
  {
   "cell_type": "markdown",
   "metadata": {
    "pycharm": {
     "name": "#%% md\n"
    }
   },
   "source": [
    "## Generate nuclear spin bath\n",
    "Building a supercell of nuclear spins from the `ase.Atoms` object."
   ]
  },
  {
   "cell_type": "markdown",
   "metadata": {},
   "source": [
    "### Build BathCell\n",
    "\n",
    "To do it from `ase.atoms` object, use classmethod `BathCell.from_ase`"
   ]
  },
  {
   "cell_type": "code",
   "execution_count": 2,
   "metadata": {},
   "outputs": [],
   "source": [
    "from ase.build import bulk\n",
    "\n",
    "# Generate unitcell from ase\n",
    "diamond = bulk('C', 'diamond', cubic=True)\n",
    "diamond = pc.bath.BathCell.from_ase(diamond)"
   ]
  },
  {
   "cell_type": "markdown",
   "metadata": {},
   "source": [
    "The following attributes created with this initiallization:\n",
    " - `.cell` is ndarray containing information of lattice vectors. Each **column** is a lattice vector in the cartesian coordinates\n",
    " - `.atoms` is a dictionary with keys corresponding to the atom name, and each item is a list of the coordinates in cell coordinates"
   ]
  },
  {
   "cell_type": "code",
   "execution_count": 3,
   "metadata": {},
   "outputs": [
    {
     "name": "stdout",
     "output_type": "stream",
     "text": [
      "Cell\n",
      " [[3.57 0.   0.  ]\n",
      " [0.   3.57 0.  ]\n",
      " [0.   0.   3.57]]\n",
      "\n",
      "Atoms\n",
      " {'C': [array([0., 0., 0.]), array([0.25, 0.25, 0.25]), array([0. , 0.5, 0.5]), array([0.25, 0.75, 0.75]), array([0.5, 0. , 0.5]), array([0.75, 0.25, 0.75]), array([0.5, 0.5, 0. ]), array([0.75, 0.75, 0.25])]}\n"
     ]
    }
   ],
   "source": [
    "print('Cell\\n', diamond.cell)\n",
    "print('\\nAtoms\\n', diamond.atoms)"
   ]
  },
  {
   "cell_type": "markdown",
   "metadata": {},
   "source": [
    "### Populate BathCell with isotopes\n",
    "\n",
    "Use function `BathCell.add_isotopes` to add one (or several) isotopes of the element with tuples containing name of the isotope and it's concentration. \n",
    "Name of the isotope includes number and element symbol, provided in the `atoms` object. Returns dictionary `BathCell.isotopes` which can be modified directly. Structure of the dictionary:\n",
    "\n",
    "```\n",
    "{element_1: {isotope_1: concentration, isotope_2: concentration},\n",
    " element_2: {isotope_3: concentration ...}}\n",
    "```\n"
   ]
  },
  {
   "cell_type": "code",
   "execution_count": 4,
   "metadata": {},
   "outputs": [
    {
     "data": {
      "text/plain": [
       "{'C': {'13C': 0.011}}"
      ]
     },
     "execution_count": 4,
     "metadata": {},
     "output_type": "execute_result"
    }
   ],
   "source": [
    "# Add types of isotopes\n",
    "diamond.add_isotopes(('13C', 0.011))"
   ]
  },
  {
   "cell_type": "markdown",
   "metadata": {},
   "source": [
    "The direct addition of the isotopes to the `BathCell.isotopes` can also be done. Here we are adding a dummy isotope without the nuclear spin:"
   ]
  },
  {
   "cell_type": "code",
   "execution_count": 6,
   "metadata": {},
   "outputs": [],
   "source": [
    "diamond.isotopes['C']['14C'] = 0.001"
   ]
  },
  {
   "cell_type": "markdown",
   "metadata": {},
   "source": [
    "### Set z-direction of the bath (optional)\n",
    "\n",
    "In the `Simulator` object everything is set in $S_z$ basis. When quantization axis of the defect does not allign with (0,0,1) direction of the crystal axis, the user has to set it themselves"
   ]
  },
  {
   "cell_type": "code",
   "execution_count": 7,
   "metadata": {},
   "outputs": [],
   "source": [
    "# set z direction of the defect\n",
    "diamond.zdir = [1, 1, 1]"
   ]
  },
  {
   "cell_type": "markdown",
   "metadata": {},
   "source": [
    "### Generate spin bath\n",
    "\n",
    "To generate spin bath, use `BathCell.gen_supercell` function. First argument is the approx. linear size of the supercell. Additional keyword arguments `remove` and `add`.\n",
    "\n",
    "`remove` takes a tuple or list of tuples of the atomic positions to remove in the final supercell (if applicable). First element of the tuple is the name of the **atom** at that location, second element - coordinates in unit cell coordinates.\n",
    "\n",
    "`add` takes a tuple or list of tuples of the isotopes to add in the final supercell. First element of the tuple is the name of the **isotope** at that location, second element - coordinates in unit cell coordinates."
   ]
  },
  {
   "cell_type": "code",
   "execution_count": 8,
   "metadata": {},
   "outputs": [
    {
     "name": "stderr",
     "output_type": "stream",
     "text": [
      "/home/onizhuk/midway/codes_development/pyCCE/pycce/bath/array.py:190: UserWarning: Spin type for 14C was not provided and was not found in common isotopes.\n",
      "  warnings.warn(\n"
     ]
    }
   ],
   "source": [
    "# Add the defect. remove and add atoms at the positions (in cell coordinates) \n",
    "atoms = diamond.gen_supercell(200, remove=[('C', [0., 0, 0]),\n",
    "                                           ('C', [0.5, 0.5, 0.5])],\n",
    "                              add=('14N', [0.5, 0.5, 0.5]),\n",
    "                              seed=seed)"
   ]
  },
  {
   "cell_type": "markdown",
   "metadata": {},
   "source": [
    "Note, that because `14C` isotope doesn't have nuclear spin, pyCCE does not find it in common isotopes, and raises a warning. We have to provide `SpinType` for it separately."
   ]
  },
  {
   "cell_type": "markdown",
   "metadata": {},
   "source": [
    "## BathArray Structure\n",
    "The bath spins are stored in `BathArray` object - a subclass of `np.ndarray` with fixed datastructure:\n",
    "- `N` field `dtype('<U16')` contains the names of bath spins\n",
    "- `xyz` field `dtype('<f8', (3,))` contains the positions of bath spins (in A)\n",
    "- `A` field `dtype('<f8', (3, 3))` contains the hyperfine coupling of bath spins (in rad*kHz)\n",
    "- `Q` field `dtype('<f8', (3, 3))` contains the quadrupole tensor of bath spins (in rad*kHz)\n",
    "\n",
    "All of the fields are accesible as attributes of `BathArray`.\n",
    "\n",
    "The properties of spin types (e.g. gyro, quadrupole moment, etc) are stored in `BathArray.types` attribute, which is instance of `SpinDict` containing `SpinType` classes. For most known isotopes `SpinType` is set by default (including electron spin-1/2, which is denoted by setting `N = e`). User can add additional `SpinType`s objects, by calling `BathArray.add_type` method, or setting elements of `SpinDict` directly. For details of first approach see help for `SpinDict.add_type` method.\n",
    "\n",
    "The direct setting of types is rather simple. User can set elements of `SpinDict` with tupple, containing: `(spin, gyromagnetic ratio, quadrupole moment)` **OR** `(isotope, gyromagnetic ratio, quadrupole moment)`  where `isotope` is the name of the `spin` (same one as in `N` field of `BathArray`) to define new `SpinType` object. The key of `SpinDict` **has** to be the correct name of the spin (`isotope` field in the tuple). Units of gyromagnetic ratio are kHz * rad, Q are given in barn."
   ]
  },
  {
   "cell_type": "code",
   "execution_count": 9,
   "metadata": {},
   "outputs": [
    {
     "name": "stdout",
     "output_type": "stream",
     "text": [
      "SpinDict({'13C': (13C, 0.5, 6.7283, 0), '14N': (14N, 1, 1.9338, 0.02044), '14C': (14C, 0, 0, 0), 'Y': (Y, 0, 0, 0), 'A': (A, 0, 0, 0)})\n"
     ]
    }
   ],
   "source": [
    "# Several ways to set SpinDict elements\n",
    "atoms.types['14C'] = 0, 0, 0\n",
    "atoms.types['Y'] = ('Y', 0, 0, 0)\n",
    "atoms.types['A'] = pc.SpinType('A', 0, 0, 0)\n",
    "\n",
    "print(atoms.types)"
   ]
  },
  {
   "cell_type": "markdown",
   "metadata": {
    "pycharm": {
     "name": "#%% md\n"
    }
   },
   "source": [
    "## CCE Simulator\n",
    "Setting the parameters of CCE simulator engine.\n",
    "\n",
    "Main parameters to consider:\n",
    "- `alpha` — first qubit state in $S_z$ basis\n",
    "- `beta` — second qubit state in $S_z$ basis\n",
    "- `position` — coordinates of the central spin\n",
    "- `order` — maximum size of the cluster\n",
    "- `r_bath` — cutoff radius around the central spin for the bath\n",
    "- `r_dipole` — cutoff radius for the pairwise distance to consider two nuclear spins to be connected\n",
    "\n",
    "Additional parameters, necessary for generalized CCE and gCCE\n",
    "- `D` ZFS Tensor of central spin, or axial ZFS\n",
    "- `E` if D is not a tensor, then transverse ZFS"
   ]
  },
  {
   "cell_type": "code",
   "execution_count": 10,
   "metadata": {
    "pycharm": {
     "name": "#%%\n"
    }
   },
   "outputs": [],
   "source": [
    "# Parameters of CCE calculations engine\n",
    "\n",
    "# Order of CCE aproximation\n",
    "order = 2\n",
    "# Bath cutoff radius\n",
    "r_bath = 40  # in A\n",
    "# Cluster cutoff radius\n",
    "r_dipole = 8  # in A\n",
    "# position of central spin\n",
    "position = [0, 0, 0]\n",
    "# Qubit levels (in Sz basis)\n",
    "alpha = [0, 0, 1]; beta = [0, 1, 0]\n",
    "# ZFS Parametters of NV center in diamond\n",
    "D = 2.88 * 1e6 * 2 * np.pi # in kHz * rad\n",
    "E = 0 # in kHz * rad\n",
    "zfs = pc.zfs_tensor(D, E)"
   ]
  },
  {
   "cell_type": "markdown",
   "metadata": {},
   "source": [
    "The code already knows the most isotopes, however user can provide their own. The way to initiallize `SpinType` objects is the same as in for `SpinDict` above."
   ]
  },
  {
   "cell_type": "code",
   "execution_count": 10,
   "metadata": {},
   "outputs": [],
   "source": [
    "# The code already knows most exsiting isotopes.\n",
    "#              Bath spin types\n",
    "#              name    spin    gyro       quadrupole moment (for s>1/2)\n",
    "spin_types = [('14N',  1,      1.9338,    20.44),\n",
    "              ('13C',  1 / 2,  6.72828),\n",
    "              ('29Si', 1 / 2, -5.3188),]"
   ]
  },
  {
   "cell_type": "markdown",
   "metadata": {},
   "source": [
    "### Setting the `Simulator` object\n",
    "All of the kwargs can be provided at the moment of creation. If all of the kwargs are provided, several methods of `Simulator` class are called:\n",
    "- `Simulator.read_bath`\n",
    "- `Simulator.generate_clusters`\n",
    "\n",
    "The details are available in the `Simulator` methods description"
   ]
  },
  {
   "cell_type": "code",
   "execution_count": 11,
   "metadata": {},
   "outputs": [],
   "source": [
    "# Setting the runner engine\n",
    "calc = pc.Simulator(spin=1, position=position, alpha=alpha, beta=beta,\n",
    "                    types=spin_types, D=D, E=E,\n",
    "                    bath=atoms, r_bath=r_bath,\n",
    "                    r_dipole=r_dipole, order=order)"
   ]
  },
  {
   "cell_type": "markdown",
   "metadata": {},
   "source": [
    "Taking advantage of subclassing `np.ndarray` we can change *in situ* the quadrupole tensor of Nitrogen nuclear spin"
   ]
  },
  {
   "cell_type": "code",
   "execution_count": 12,
   "metadata": {},
   "outputs": [],
   "source": [
    "nspin = calc.bath\n",
    "# Set model quadrupole tensor at N atom\n",
    "nspin['Q'][nspin['N'] == '14N'] = np.asarray([[-2.5, 0, 0],\n",
    "                                              [0, -2.5, 0],\n",
    "                                              [0, 0,  5.0]]) * 1e3 * 2 * np.pi"
   ]
  },
  {
   "cell_type": "markdown",
   "metadata": {
    "pycharm": {
     "name": "#%% md\n"
    }
   },
   "source": [
    "### Compute coherence function with conventional CCE\n",
    "\n",
    "In conventional CCE method the Hamiltonian is projected on the qubit levels, and the coherence is computed from the overlap of evolution of the bath, entangled with two different qubit states.\n",
    "\n",
    "The conventional CCE requires several arguments:\n",
    "- `timespace` — time points at which compute the coherence function\n",
    "- `N` — number of pulses in CPMG sequence (0 - FID, 1 - HE etc.)\n",
    "- `B` — array of the magnetic field\n",
    "\n",
    "For details see `help(calc.cce_coherence)`"
   ]
  },
  {
   "cell_type": "code",
   "execution_count": 13,
   "metadata": {},
   "outputs": [],
   "source": [
    "# Time points\n",
    "time_space = np.linspace(0, 2, 201)  # in ms\n",
    "# Number of pulses in CPMG seq (0 = FID, 1 = HE)\n",
    "N = 1\n",
    "# Mag. Field (Bx By Bz)\n",
    "B = np.array([0, 0, 500])  # in G\n",
    "\n",
    "l_conv = calc.compute(time_space, B, N, method='cce', quantity='coherence', as_delay=False)"
   ]
  },
  {
   "cell_type": "code",
   "execution_count": 14,
   "metadata": {},
   "outputs": [
    {
     "name": "stdout",
     "output_type": "stream",
     "text": [
      "1.41 s ± 4.96 ms per loop (mean ± std. dev. of 7 runs, 1 loop each)\n"
     ]
    }
   ],
   "source": [
    "%timeit calc.compute(time_space, B, N, method='cce', quantity='coherence', as_delay=False)"
   ]
  },
  {
   "cell_type": "markdown",
   "metadata": {},
   "source": [
    "### Generalized CCE (gCCE)\n",
    "\n",
    "In contrast, in generalized CCE each cluster includes the central spin explicitly.\n",
    "\n",
    "Generalized CCE can take `pulse_sequence` agrument instead of N:\n",
    "- `pulse_sequence` actual pulse sequence can be provided as a list of tuples. In each tuple first entry axis, second entry - rotational angle. Otherwise `N` argument is also accepted\n",
    "\n",
    "For details see `help(calc.generalized_cce_dm)`"
   ]
  },
  {
   "cell_type": "code",
   "execution_count": 15,
   "metadata": {},
   "outputs": [
    {
     "name": "stderr",
     "output_type": "stream",
     "text": [
      "/home/onizhuk/anaconda3/lib/python3.8/site-packages/numpy/ma/core.py:473: ComplexWarning: Casting complex values to real discards the imaginary part\n",
      "  fill_value = np.array(fill_value, copy=False, dtype=ndtype)\n"
     ]
    }
   ],
   "source": [
    "# Hahn-echo pulse sequence\n",
    "pulse_sequence = [('x', np.pi)]\n",
    "\n",
    "# Calculate coherence function\n",
    "l_generatilze = calc.compute(time_space, B, pulse_sequence=pulse_sequence, mean_field=False,\n",
    "                             method='gcce', quantity='coherence')"
   ]
  },
  {
   "cell_type": "code",
   "execution_count": 16,
   "metadata": {},
   "outputs": [
    {
     "name": "stdout",
     "output_type": "stream",
     "text": [
      "4.07 s ± 30.4 ms per loop (mean ± std. dev. of 7 runs, 1 loop each)\n"
     ]
    }
   ],
   "source": [
    "%timeit calc.compute(time_space, B, pulse_sequence=pulse_sequence, D=D, E=E, method='gcce', mean_field=False, quantity='coherence')"
   ]
  },
  {
   "cell_type": "markdown",
   "metadata": {
    "pycharm": {
     "name": "#%% md\n"
    }
   },
   "source": [
    "### gCCE with random sampling of bath states\n",
    "This approach conducts generalized CCE calculations for set of random bath states. Can be turn on by by setting keyword argument `mean_field` to `True`. Compared to generalized CCE, requires one additional argument `nbstates`. Recommended number of bath states is above 100, but the convergence should be checked for each system. Note, that this computation is roughly `nbstates` times longer than generalized CCE, as it computes everything `nbstates` times.\n",
    "\n",
    "For details see `help(calc.gcce_dm)`"
   ]
  },
  {
   "cell_type": "code",
   "execution_count": 20,
   "metadata": {},
   "outputs": [
    {
     "name": "stderr",
     "output_type": "stream",
     "text": [
      "/home/onizhuk/anaconda3/lib/python3.8/site-packages/numpy/ma/core.py:473: ComplexWarning: Casting complex values to real discards the imaginary part\n",
      "  fill_value = np.array(fill_value, copy=False, dtype=ndtype)\n"
     ]
    }
   ],
   "source": [
    "# Number of random bath states to sample over\n",
    "n_bath_states = 30\n",
    "\n",
    "# Calculate coherence function\n",
    "l_gcce = calc.compute(time_space, B, pulse_sequence=pulse_sequence, mean_field=True,\n",
    "                      nbstates=n_bath_states, method='gcce', quantity='coherence', seed=seed)"
   ]
  },
  {
   "cell_type": "code",
   "execution_count": 18,
   "metadata": {},
   "outputs": [
    {
     "name": "stdout",
     "output_type": "stream",
     "text": [
      "46.2 s ± 809 ms per loop (mean ± std. dev. of 7 runs, 1 loop each)\n"
     ]
    }
   ],
   "source": [
    "n_bath_states = 10\n",
    "%timeit calc.compute(time_space, B, pulse_sequence=pulse_sequence, nbstates=n_bath_states, method='gcce', quantity='coherence', seed=seed)"
   ]
  },
  {
   "cell_type": "markdown",
   "metadata": {
    "pycharm": {
     "name": "#%% md\n"
    }
   },
   "source": [
    "look at all and check that they produce similar results. Note gCCE deviates from other results as number of states is not enough to converge"
   ]
  },
  {
   "cell_type": "code",
   "execution_count": 21,
   "metadata": {},
   "outputs": [
    {
     "data": {
      "text/plain": [
       "Text(0, 0.5, 'L')"
      ]
     },
     "execution_count": 21,
     "metadata": {},
     "output_type": "execute_result"
    },
    {
     "data": {
      "image/png": "[encoded data removed]",
      "text/plain": [
       "<Figure size 432x288 with 1 Axes>"
      ]
     },
     "metadata": {
      "needs_background": "light"
     },
     "output_type": "display_data"
    }
   ],
   "source": [
    "plt.plot(time_space, l_conv.real, label='conventional CCE')\n",
    "plt.plot(time_space, l_generatilze.real, label='generalized CCE', ls='--')\n",
    "plt.plot(time_space, l_gcce.real, label='gCCE with bath sampling', ls='', marker='.')\n",
    "\n",
    "plt.legend()\n",
    "plt.xlabel('Time, ms')\n",
    "plt.ylabel('L')"
   ]
  },
  {
   "cell_type": "markdown",
   "metadata": {},
   "source": [
    "### Convergence parameters\n",
    "Having confirmed that all methods produce the same results, we check convergence of conventional CCE with respect to `order`, `r_bath`, `r_dipole` parameters of the `Simulator` object.\n",
    "\n",
    "First, define all of the parameters."
   ]
  },
  {
   "cell_type": "code",
   "execution_count": 32,
   "metadata": {},
   "outputs": [],
   "source": [
    "parameters = dict(\n",
    "    order=2, # CCE order\n",
    "    r_bath=40,  # Size of the bath in A\n",
    "    r_dipole=8,  # Cutoff of pairwise clusters in A\n",
    "    position=[0, 0, 0], # Position of central Spin\n",
    "    alpha=[0, 0, 1],\n",
    "    beta=[0, 1, 0]\n",
    ") # Qubit levels)\n",
    "\n",
    "time_space = np.linspace(0, 2, 201)  # Time points in ms\n",
    "N = 1 # N pulses in CPMG sequence\n",
    "B = np.array([0, 0, 500])  # Magnetic field in G"
   ]
  },
  {
   "cell_type": "markdown",
   "metadata": {},
   "source": [
    "We can define a little helper function to streamline the process:"
   ]
  },
  {
   "cell_type": "code",
   "execution_count": 33,
   "metadata": {},
   "outputs": [],
   "source": [
    "def runner(variable, values):\n",
    "    invalue = parameters[variable]\n",
    "    ls = []\n",
    "\n",
    "    for v in values:\n",
    "        parameters[variable] = v\n",
    "        calc = pc.Simulator(spin=1, bath=atoms, **parameters)\n",
    "        l = calc.compute(time_space, B, N, method='cce', quantity='coherence', as_delay=False)\n",
    "        ls.append(l.real)\n",
    "\n",
    "    parameters[variable] = invalue\n",
    "    ls = pd.DataFrame(ls, columns=time_space, index=values).T\n",
    "    return ls"
   ]
  },
  {
   "cell_type": "markdown",
   "metadata": {},
   "source": [
    "Now we can compute the coherence function at different values of the parameters:"
   ]
  },
  {
   "cell_type": "code",
   "execution_count": 34,
   "metadata": {},
   "outputs": [],
   "source": [
    "orders = runner('order', [1, 2, 3, 4])"
   ]
  },
  {
   "cell_type": "code",
   "execution_count": 35,
   "metadata": {},
   "outputs": [],
   "source": [
    "rbs = runner('r_bath', [20, 30, 40, 50, 60])"
   ]
  },
  {
   "cell_type": "code",
   "execution_count": 36,
   "metadata": {},
   "outputs": [],
   "source": [
    "rds = runner('r_dipole', [4, 6, 8, 10])"
   ]
  },
  {
   "cell_type": "markdown",
   "metadata": {},
   "source": [
    "We can visualize the convergence of coherence function with respect to different parameters:"
   ]
  },
  {
   "cell_type": "code",
   "execution_count": 37,
   "metadata": {},
   "outputs": [
    {
     "data": {
      "image/png": "[encoded data removed]",
      "text/plain": [
       "<Figure size 864x216 with 3 Axes>"
      ]
     },
     "metadata": {
      "needs_background": "light"
     },
     "output_type": "display_data"
    }
   ],
   "source": [
    "fig, axes = plt.subplots(1, 3, figsize=(12, 3))\n",
    "orders.plot(ax=axes[0], title='order')\n",
    "rbs.plot(ax=axes[1], title='r_bath')\n",
    "rds.plot(ax=axes[2], title='r_dipole')\n",
    "for ax in axes:\n",
    "    ax.set(xlabel='Time (ms)', ylabel='Coherence')\n",
    "fig.tight_layout()"
   ]
  }
 ],
 "metadata": {
  "kernelspec": {
   "display_name": "Python 3",
   "language": "python",
   "name": "python3"
  },
  "language_info": {
   "codemirror_mode": {
    "name": "ipython",
    "version": 3
   },
   "file_extension": ".py",
   "mimetype": "text/x-python",
   "name": "python",
   "nbconvert_exporter": "python",
   "pygments_lexer": "ipython3",
   "version": "3.8.3"
  },
  "pycharm": {
   "stem_cell": {
    "cell_type": "raw",
    "metadata": {
     "collapsed": false
    },
    "source": []
   }
  }
 },
 "nbformat": 4,
 "nbformat_minor": 4
}
